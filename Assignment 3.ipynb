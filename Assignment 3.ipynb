{
 "cells": [
  {
   "cell_type": "code",
   "execution_count": 1,
   "id": "672f0f0c",
   "metadata": {},
   "outputs": [
    {
     "name": "stdout",
     "output_type": "stream",
     "text": [
      "Requirement already satisfied: selenium in c:\\users\\user\\anaconda3\\lib\\site-packages (4.7.2)\n",
      "Requirement already satisfied: trio~=0.17 in c:\\users\\user\\anaconda3\\lib\\site-packages (from selenium) (0.22.0)\n",
      "Requirement already satisfied: urllib3[socks]~=1.26 in c:\\users\\user\\anaconda3\\lib\\site-packages (from selenium) (1.26.11)\n",
      "Requirement already satisfied: trio-websocket~=0.9 in c:\\users\\user\\anaconda3\\lib\\site-packages (from selenium) (0.9.2)\n",
      "Requirement already satisfied: certifi>=2021.10.8 in c:\\users\\user\\anaconda3\\lib\\site-packages (from selenium) (2022.9.14)\n",
      "Requirement already satisfied: sniffio in c:\\users\\user\\anaconda3\\lib\\site-packages (from trio~=0.17->selenium) (1.2.0)\n",
      "Requirement already satisfied: sortedcontainers in c:\\users\\user\\anaconda3\\lib\\site-packages (from trio~=0.17->selenium) (2.4.0)\n",
      "Requirement already satisfied: async-generator>=1.9 in c:\\users\\user\\anaconda3\\lib\\site-packages (from trio~=0.17->selenium) (1.10)\n",
      "Requirement already satisfied: attrs>=19.2.0 in c:\\users\\user\\anaconda3\\lib\\site-packages (from trio~=0.17->selenium) (21.4.0)\n",
      "Requirement already satisfied: cffi>=1.14 in c:\\users\\user\\anaconda3\\lib\\site-packages (from trio~=0.17->selenium) (1.15.1)\n",
      "Requirement already satisfied: idna in c:\\users\\user\\anaconda3\\lib\\site-packages (from trio~=0.17->selenium) (3.3)\n",
      "Requirement already satisfied: exceptiongroup>=1.0.0rc9 in c:\\users\\user\\anaconda3\\lib\\site-packages (from trio~=0.17->selenium) (1.0.4)\n",
      "Requirement already satisfied: outcome in c:\\users\\user\\anaconda3\\lib\\site-packages (from trio~=0.17->selenium) (1.2.0)\n",
      "Requirement already satisfied: wsproto>=0.14 in c:\\users\\user\\anaconda3\\lib\\site-packages (from trio-websocket~=0.9->selenium) (1.2.0)\n",
      "Requirement already satisfied: PySocks!=1.5.7,<2.0,>=1.5.6 in c:\\users\\user\\anaconda3\\lib\\site-packages (from urllib3[socks]~=1.26->selenium) (1.7.1)\n",
      "Requirement already satisfied: pycparser in c:\\users\\user\\anaconda3\\lib\\site-packages (from cffi>=1.14->trio~=0.17->selenium) (2.21)\n",
      "Requirement already satisfied: h11<1,>=0.9.0 in c:\\users\\user\\anaconda3\\lib\\site-packages (from wsproto>=0.14->trio-websocket~=0.9->selenium) (0.14.0)\n",
      "Requirement already satisfied: bs4 in c:\\users\\user\\anaconda3\\lib\\site-packages (0.0.1)\n",
      "Requirement already satisfied: beautifulsoup4 in c:\\users\\user\\anaconda3\\lib\\site-packages (from bs4) (4.11.1)\n",
      "Requirement already satisfied: soupsieve>1.2 in c:\\users\\user\\anaconda3\\lib\\site-packages (from beautifulsoup4->bs4) (2.3.1)\n",
      "Requirement already satisfied: requests in c:\\users\\user\\anaconda3\\lib\\site-packages (2.28.1)\n",
      "Requirement already satisfied: idna<4,>=2.5 in c:\\users\\user\\anaconda3\\lib\\site-packages (from requests) (3.3)\n",
      "Requirement already satisfied: charset-normalizer<3,>=2 in c:\\users\\user\\anaconda3\\lib\\site-packages (from requests) (2.0.4)\n",
      "Requirement already satisfied: certifi>=2017.4.17 in c:\\users\\user\\anaconda3\\lib\\site-packages (from requests) (2022.9.14)\n",
      "Requirement already satisfied: urllib3<1.27,>=1.21.1 in c:\\users\\user\\anaconda3\\lib\\site-packages (from requests) (1.26.11)\n",
      "Requirement already satisfied: geopy in c:\\users\\user\\anaconda3\\lib\\site-packages (2.3.0)\n",
      "Requirement already satisfied: geographiclib<3,>=1.52 in c:\\users\\user\\anaconda3\\lib\\site-packages (from geopy) (2.0)\n"
     ]
    }
   ],
   "source": [
    "!pip install selenium\n",
    "!pip install bs4\n",
    "!pip install requests\n",
    "!pip install geopy"
   ]
  },
  {
   "cell_type": "code",
   "execution_count": 2,
   "id": "3462f001",
   "metadata": {},
   "outputs": [],
   "source": [
    "from bs4 import BeautifulSoup\n",
    "import requests\n",
    "import selenium\n",
    "import pandas as pd\n",
    "from selenium import webdriver\n",
    "import warnings\n",
    "warnings.filterwarnings('ignore')\n",
    "from selenium.common.exceptions import StaleElementReferenceException,NoSuchElementException\n",
    "from selenium.webdriver.common.by import By\n",
    "import time\n",
    "import numpy as np\n",
    "import urllib\n",
    "from selenium.webdriver.support import expected_conditions as EC\n",
    "from selenium.common.exceptions import TimeoutException\n",
    "from geopy.geocoders import Nominatim"
   ]
  },
  {
   "cell_type": "code",
   "execution_count": 3,
   "id": "7c30eeba",
   "metadata": {},
   "outputs": [],
   "source": [
    "driver=webdriver.Chrome(r\"C:\\Users\\User\\Downloads\\chromedriver_win32 (1)\\chromedriver.exe\")\n",
    "driver.maximize_window()"
   ]
  },
  {
   "cell_type": "markdown",
   "id": "8462e3d0",
   "metadata": {},
   "source": [
    "# Q1"
   ]
  },
  {
   "cell_type": "code",
   "execution_count": 42,
   "id": "39cd0dc1",
   "metadata": {},
   "outputs": [],
   "source": [
    "driver.get(\"https://www.amazon.in/\")\n",
    "item=driver.find_element(By.ID,\"twotabsearchtextbox\")\n",
    "item.send_keys('guitar')\n",
    "search=driver.find_element(By.ID,\"nav-search-submit-text\")\n",
    "search.click()"
   ]
  },
  {
   "cell_type": "markdown",
   "id": "d17ee235",
   "metadata": {},
   "source": [
    "# Q2"
   ]
  },
  {
   "cell_type": "code",
   "execution_count": 43,
   "id": "1ae9a0e6",
   "metadata": {},
   "outputs": [],
   "source": [
    "Brand_Name=[]\n",
    "Nameofprd=[]\n",
    "Price=[]\n",
    "Return_Exch=[]\n",
    "Exp_Del=[]\n",
    "Avail=[]"
   ]
  },
  {
   "cell_type": "code",
   "execution_count": 44,
   "id": "93e7c50e",
   "metadata": {},
   "outputs": [],
   "source": [
    "product_urls=[]\n",
    "start=0\n",
    "end=3\n",
    "for page in range(start,end):\n",
    "    url=driver.find_elements(By.XPATH,'//a[@class=\"a-link-normal s-underline-text s-underline-link-text s-link-style a-text-normal\"]')\n",
    "    for i in url[0:20]:\n",
    "        product_urls.append(i.get_attribute(\"href\"))\n",
    "    next_button=driver.find_element (By.XPATH,'//a[@class=\"s-pagination-item s-pagination-next s-pagination-button s-pagination-separator\"]')\n",
    "    next_button.click()\n",
    "    time.sleep(2)"
   ]
  },
  {
   "cell_type": "code",
   "execution_count": 46,
   "id": "fa43b126",
   "metadata": {},
   "outputs": [],
   "source": [
    "for url in product_urls[:20]:\n",
    "    driver.get(url)\n",
    "    time.sleep(2)\n",
    "    \n",
    "    try:\n",
    "        brand=driver.find_element(By.XPATH,'//*[@id=\"productOverview_feature_div\"]/div/table/tbody/tr[1]/td[2]/span')\n",
    "        Brand_Name.append(brand.text)\n",
    "    except NoSuchElementException:\n",
    "        Brand_Name.append(\"-\")\n",
    "        \n",
    "for url in product_urls[:20]:\n",
    "    driver.get(url)\n",
    "    time.sleep(2)\n",
    "        \n",
    "    try: \n",
    "        Name=driver.find_element(By.XPATH,'//*[@id=\"title_feature_div\"]/div/h1/span')\n",
    "        Nameofprd.append(Name.text)\n",
    "    except NoSuchElementException:\n",
    "        Nameofprd.append(\"-\")\n",
    "        \n",
    "for url in product_urls[:20]:\n",
    "    driver.get(url)\n",
    "    time.sleep(2)\n",
    "        \n",
    "    try:\n",
    "        price=driver.find_element(By.XPATH,'//span[@class=\"a-price-whole\"]')\n",
    "        Price.append(price.text)\n",
    "    except NoSuchElementException:\n",
    "        Price.append(\"-\")\n",
    "        \n",
    "for url in product_urls[:20]:\n",
    "    driver.get(url)\n",
    "    time.sleep(2)\n",
    "    \n",
    "    try:\n",
    "        Exp_del=driver.find_element(By.XPATH,'//span[@class=\"a-text-bold\"]')\n",
    "        Exp_Del.append(Exp_del.text)\n",
    "    except NoSuchElementException:\n",
    "        Exp_Del.append(\"-\")"
   ]
  },
  {
   "cell_type": "code",
   "execution_count": 52,
   "id": "185c2572",
   "metadata": {},
   "outputs": [
    {
     "data": {
      "text/html": [
       "<div>\n",
       "<style scoped>\n",
       "    .dataframe tbody tr th:only-of-type {\n",
       "        vertical-align: middle;\n",
       "    }\n",
       "\n",
       "    .dataframe tbody tr th {\n",
       "        vertical-align: top;\n",
       "    }\n",
       "\n",
       "    .dataframe thead th {\n",
       "        text-align: right;\n",
       "    }\n",
       "</style>\n",
       "<table border=\"1\" class=\"dataframe\">\n",
       "  <thead>\n",
       "    <tr style=\"text-align: right;\">\n",
       "      <th></th>\n",
       "      <th>Brand_name</th>\n",
       "      <th>Product_Name</th>\n",
       "      <th>Prices</th>\n",
       "      <th>Expected_Del</th>\n",
       "      <th>URLS</th>\n",
       "    </tr>\n",
       "  </thead>\n",
       "  <tbody>\n",
       "    <tr>\n",
       "      <th>0</th>\n",
       "      <td>Kadence</td>\n",
       "      <td>Kadence Frontier guitar with Online Guitar lea...</td>\n",
       "      <td>4,949</td>\n",
       "      <td>Wednesday, 21 December</td>\n",
       "      <td>https://www.amazon.in/sspa/click?ie=UTF8&amp;spc=M...</td>\n",
       "    </tr>\n",
       "    <tr>\n",
       "      <th>1</th>\n",
       "      <td>Kadence</td>\n",
       "      <td>Kadence Slowhand Premium Jumbo Semi Acoustic G...</td>\n",
       "      <td>9,900</td>\n",
       "      <td>Friday, 23 December</td>\n",
       "      <td>https://www.amazon.in/sspa/click?ie=UTF8&amp;spc=M...</td>\n",
       "    </tr>\n",
       "    <tr>\n",
       "      <th>2</th>\n",
       "      <td>Medellin</td>\n",
       "      <td>Medellin M38 carbon fiber body 38 Incheses Aco...</td>\n",
       "      <td>2,429</td>\n",
       "      <td>Thursday, 22 December</td>\n",
       "      <td>https://www.amazon.in/sspa/click?ie=UTF8&amp;spc=M...</td>\n",
       "    </tr>\n",
       "    <tr>\n",
       "      <th>3</th>\n",
       "      <td>Medellin</td>\n",
       "      <td>Medellin 38\" Acoustic Guitar premium wood with...</td>\n",
       "      <td>2,399</td>\n",
       "      <td>Friday, 23 December</td>\n",
       "      <td>https://www.amazon.in/sspa/click?ie=UTF8&amp;spc=M...</td>\n",
       "    </tr>\n",
       "    <tr>\n",
       "      <th>4</th>\n",
       "      <td>Juârez</td>\n",
       "      <td>Juârez Acoustic Guitar, 38 Inch Cutaway, 038C ...</td>\n",
       "      <td>2,090</td>\n",
       "      <td>Wednesday, 21 December</td>\n",
       "      <td>https://www.amazon.in/Juarez-Acoustic-Cutaway-...</td>\n",
       "    </tr>\n",
       "    <tr>\n",
       "      <th>5</th>\n",
       "      <td>Intern</td>\n",
       "      <td>Intern INT-38C Right hand Acoustic Guitar Kit,...</td>\n",
       "      <td>2,189</td>\n",
       "      <td>Wednesday, 21 December</td>\n",
       "      <td>https://www.amazon.in/Intern-INT-38C-Acoustic-...</td>\n",
       "    </tr>\n",
       "    <tr>\n",
       "      <th>6</th>\n",
       "      <td>Intern</td>\n",
       "      <td>Intern INT-38C Acoustic Guitar Kit (Blue)</td>\n",
       "      <td>2,299</td>\n",
       "      <td>Wednesday, 21 December</td>\n",
       "      <td>https://www.amazon.in/Intern-INT-38C-Acoustic-...</td>\n",
       "    </tr>\n",
       "    <tr>\n",
       "      <th>7</th>\n",
       "      <td>Intern</td>\n",
       "      <td>Intern 38C Ebony Wood Cutaway Design Acoustic ...</td>\n",
       "      <td>1,899</td>\n",
       "      <td>Wednesday, 21 December</td>\n",
       "      <td>https://www.amazon.in/Intern-38-inch-Cutaway-D...</td>\n",
       "    </tr>\n",
       "    <tr>\n",
       "      <th>8</th>\n",
       "      <td>JUAREZ</td>\n",
       "      <td>Juarez Lindenwood Acoustic Guitar, 38 Inches C...</td>\n",
       "      <td>2,513</td>\n",
       "      <td>Wednesday, 21 December</td>\n",
       "      <td>https://www.amazon.in/Juarez-Acoustic-Guitar-C...</td>\n",
       "    </tr>\n",
       "    <tr>\n",
       "      <th>9</th>\n",
       "      <td>YAMAHA</td>\n",
       "      <td>Yamaha F280 Acoustic Rosewood Guitar (Natural,...</td>\n",
       "      <td>7,348</td>\n",
       "      <td>Friday, 23 December</td>\n",
       "      <td>https://www.amazon.in/Yamaha-F280-Acoustic-Gui...</td>\n",
       "    </tr>\n",
       "    <tr>\n",
       "      <th>10</th>\n",
       "      <td>Intern</td>\n",
       "      <td>Intern Int-38c Sunburst Linden Wood Acoustic G...</td>\n",
       "      <td>1,899</td>\n",
       "      <td>Wednesday, 21 December</td>\n",
       "      <td>https://www.amazon.in/Intern-INT-38C-Sunburst-...</td>\n",
       "    </tr>\n",
       "    <tr>\n",
       "      <th>11</th>\n",
       "      <td>Kadence</td>\n",
       "      <td>Kadence 40 Incheses Frontier Series, wood Acou...</td>\n",
       "      <td>4,999</td>\n",
       "      <td>Wednesday, 21 December</td>\n",
       "      <td>https://www.amazon.in/Kadence-Frontier-Acousti...</td>\n",
       "    </tr>\n",
       "    <tr>\n",
       "      <th>12</th>\n",
       "      <td>Fender</td>\n",
       "      <td>Fender CD 60 Dread V3 DS 6 String Acoustic Gui...</td>\n",
       "      <td>12,530</td>\n",
       "      <td>Wednesday, 21 December</td>\n",
       "      <td>https://www.amazon.in/Fender-Dread-String-Acou...</td>\n",
       "    </tr>\n",
       "    <tr>\n",
       "      <th>13</th>\n",
       "      <td>JUAREZ</td>\n",
       "      <td>JUAREZ JRZ38C 38 Inches Lindenwood Right Hande...</td>\n",
       "      <td>2,649</td>\n",
       "      <td>Wednesday, 21 December</td>\n",
       "      <td>https://www.amazon.in/JUAREZ-JRZ38C-Acoustic-N...</td>\n",
       "    </tr>\n",
       "    <tr>\n",
       "      <th>14</th>\n",
       "      <td>YAMAHA</td>\n",
       "      <td>Yamaha F280 Acoustic Rosewood Guitar (Natural,...</td>\n",
       "      <td>7,348</td>\n",
       "      <td>Friday, 23 December</td>\n",
       "      <td>https://www.amazon.in/Yamaha-F280-Acoustic-Gui...</td>\n",
       "    </tr>\n",
       "    <tr>\n",
       "      <th>15</th>\n",
       "      <td>YAMAHA</td>\n",
       "      <td>Yamaha FS100C Acoustic Guitar, Black</td>\n",
       "      <td>9,099</td>\n",
       "      <td>Friday, 23 December</td>\n",
       "      <td>https://www.amazon.in/Yamaha-FS-100C-6-String-...</td>\n",
       "    </tr>\n",
       "    <tr>\n",
       "      <th>16</th>\n",
       "      <td>Fender</td>\n",
       "      <td>Fender dreadnought Squier Acoustic Guitar Drea...</td>\n",
       "      <td>6,848</td>\n",
       "      <td>Wednesday, 21 December</td>\n",
       "      <td>https://www.amazon.in/Fender-SA-150C-dreadnoug...</td>\n",
       "    </tr>\n",
       "    <tr>\n",
       "      <th>17</th>\n",
       "      <td>YAMAHA</td>\n",
       "      <td>YAMAHA F310, 6-Strings Rose Wood Acoustic Guit...</td>\n",
       "      <td>9,299</td>\n",
       "      <td>Friday, 23 December</td>\n",
       "      <td>https://www.amazon.in/Yamaha-F310-6-Strings-Ac...</td>\n",
       "    </tr>\n",
       "    <tr>\n",
       "      <th>18</th>\n",
       "      <td>ORANGEWOOD GUITARS</td>\n",
       "      <td>Orangewood Manhattan-s Dreadnought Acoustic Gu...</td>\n",
       "      <td>12,499</td>\n",
       "      <td>Monday, 26 December</td>\n",
       "      <td>https://www.amazon.in/Orangewood-Manhattan-Dre...</td>\n",
       "    </tr>\n",
       "    <tr>\n",
       "      <th>19</th>\n",
       "      <td>Fender</td>\n",
       "      <td>Fender CD 60 Dread V3 DS 6 String Acoustic Gui...</td>\n",
       "      <td>12,530</td>\n",
       "      <td>Wednesday, 21 December</td>\n",
       "      <td>https://www.amazon.in/Fender-Dread-String-Acou...</td>\n",
       "    </tr>\n",
       "  </tbody>\n",
       "</table>\n",
       "</div>"
      ],
      "text/plain": [
       "            Brand_name                                       Product_Name  \\\n",
       "0              Kadence  Kadence Frontier guitar with Online Guitar lea...   \n",
       "1              Kadence  Kadence Slowhand Premium Jumbo Semi Acoustic G...   \n",
       "2             Medellin  Medellin M38 carbon fiber body 38 Incheses Aco...   \n",
       "3             Medellin  Medellin 38\" Acoustic Guitar premium wood with...   \n",
       "4               Juârez  Juârez Acoustic Guitar, 38 Inch Cutaway, 038C ...   \n",
       "5               Intern  Intern INT-38C Right hand Acoustic Guitar Kit,...   \n",
       "6               Intern          Intern INT-38C Acoustic Guitar Kit (Blue)   \n",
       "7               Intern  Intern 38C Ebony Wood Cutaway Design Acoustic ...   \n",
       "8               JUAREZ  Juarez Lindenwood Acoustic Guitar, 38 Inches C...   \n",
       "9               YAMAHA  Yamaha F280 Acoustic Rosewood Guitar (Natural,...   \n",
       "10              Intern  Intern Int-38c Sunburst Linden Wood Acoustic G...   \n",
       "11             Kadence  Kadence 40 Incheses Frontier Series, wood Acou...   \n",
       "12              Fender  Fender CD 60 Dread V3 DS 6 String Acoustic Gui...   \n",
       "13              JUAREZ  JUAREZ JRZ38C 38 Inches Lindenwood Right Hande...   \n",
       "14              YAMAHA  Yamaha F280 Acoustic Rosewood Guitar (Natural,...   \n",
       "15              YAMAHA               Yamaha FS100C Acoustic Guitar, Black   \n",
       "16              Fender  Fender dreadnought Squier Acoustic Guitar Drea...   \n",
       "17              YAMAHA  YAMAHA F310, 6-Strings Rose Wood Acoustic Guit...   \n",
       "18  ORANGEWOOD GUITARS  Orangewood Manhattan-s Dreadnought Acoustic Gu...   \n",
       "19              Fender  Fender CD 60 Dread V3 DS 6 String Acoustic Gui...   \n",
       "\n",
       "    Prices            Expected_Del  \\\n",
       "0    4,949  Wednesday, 21 December   \n",
       "1    9,900     Friday, 23 December   \n",
       "2    2,429   Thursday, 22 December   \n",
       "3    2,399     Friday, 23 December   \n",
       "4    2,090  Wednesday, 21 December   \n",
       "5    2,189  Wednesday, 21 December   \n",
       "6    2,299  Wednesday, 21 December   \n",
       "7    1,899  Wednesday, 21 December   \n",
       "8    2,513  Wednesday, 21 December   \n",
       "9    7,348     Friday, 23 December   \n",
       "10   1,899  Wednesday, 21 December   \n",
       "11   4,999  Wednesday, 21 December   \n",
       "12  12,530  Wednesday, 21 December   \n",
       "13   2,649  Wednesday, 21 December   \n",
       "14   7,348     Friday, 23 December   \n",
       "15   9,099     Friday, 23 December   \n",
       "16   6,848  Wednesday, 21 December   \n",
       "17   9,299     Friday, 23 December   \n",
       "18  12,499     Monday, 26 December   \n",
       "19  12,530  Wednesday, 21 December   \n",
       "\n",
       "                                                 URLS  \n",
       "0   https://www.amazon.in/sspa/click?ie=UTF8&spc=M...  \n",
       "1   https://www.amazon.in/sspa/click?ie=UTF8&spc=M...  \n",
       "2   https://www.amazon.in/sspa/click?ie=UTF8&spc=M...  \n",
       "3   https://www.amazon.in/sspa/click?ie=UTF8&spc=M...  \n",
       "4   https://www.amazon.in/Juarez-Acoustic-Cutaway-...  \n",
       "5   https://www.amazon.in/Intern-INT-38C-Acoustic-...  \n",
       "6   https://www.amazon.in/Intern-INT-38C-Acoustic-...  \n",
       "7   https://www.amazon.in/Intern-38-inch-Cutaway-D...  \n",
       "8   https://www.amazon.in/Juarez-Acoustic-Guitar-C...  \n",
       "9   https://www.amazon.in/Yamaha-F280-Acoustic-Gui...  \n",
       "10  https://www.amazon.in/Intern-INT-38C-Sunburst-...  \n",
       "11  https://www.amazon.in/Kadence-Frontier-Acousti...  \n",
       "12  https://www.amazon.in/Fender-Dread-String-Acou...  \n",
       "13  https://www.amazon.in/JUAREZ-JRZ38C-Acoustic-N...  \n",
       "14  https://www.amazon.in/Yamaha-F280-Acoustic-Gui...  \n",
       "15  https://www.amazon.in/Yamaha-FS-100C-6-String-...  \n",
       "16  https://www.amazon.in/Fender-SA-150C-dreadnoug...  \n",
       "17  https://www.amazon.in/Yamaha-F310-6-Strings-Ac...  \n",
       "18  https://www.amazon.in/Orangewood-Manhattan-Dre...  \n",
       "19  https://www.amazon.in/Fender-Dread-String-Acou...  "
      ]
     },
     "execution_count": 52,
     "metadata": {},
     "output_type": "execute_result"
    }
   ],
   "source": [
    "df=pd.DataFrame({'Brand_name':Brand_Name[:20],'Product_Name':Nameofprd[:20],'Prices':Price[:20],'Expected_Del':Exp_Del[:20],'URLS':product_urls[:20]})\n",
    "df"
   ]
  },
  {
   "cell_type": "code",
   "execution_count": 55,
   "id": "40c8d333",
   "metadata": {},
   "outputs": [],
   "source": [
    "df.to_csv('guitar.csv')"
   ]
  },
  {
   "cell_type": "markdown",
   "id": "8bfb12e0",
   "metadata": {},
   "source": [
    "# Q3"
   ]
  },
  {
   "cell_type": "code",
   "execution_count": 6,
   "id": "84e24b28",
   "metadata": {},
   "outputs": [],
   "source": [
    "chrome_options = webdriver.ChromeOptions()\n",
    "chrome_options.add_argument('--headless')\n",
    "chrome_options.add_argument('--no-sandbox')\n",
    "chrome_options.add_argument('--disable-dev-shm-usage')\n",
    "driver = webdriver.Chrome('chromedriver',chrome_options=chrome_options)"
   ]
  },
  {
   "cell_type": "code",
   "execution_count": 7,
   "id": "13382283",
   "metadata": {},
   "outputs": [],
   "source": [
    "driver=webdriver.Chrome(r\"C:\\Users\\User\\Downloads\\chromedriver_win32 (1)\\chromedriver.exe\")\n",
    "driver.maximize_window()"
   ]
  },
  {
   "cell_type": "code",
   "execution_count": 8,
   "id": "508442bd",
   "metadata": {},
   "outputs": [],
   "source": [
    "url = (\"https://www.google.com/search?q={s}&tbm=isch&tbs=sur%3Afc&hl=en&ved=0CAIQpwVqFwoTCKCa1c6s4-oCFQAAAAAdAAAAABAC&biw=1251&bih=568\")"
   ]
  },
  {
   "cell_type": "markdown",
   "id": "27bd3d79",
   "metadata": {},
   "source": [
    "Fruits"
   ]
  },
  {
   "cell_type": "code",
   "execution_count": 9,
   "id": "e31969b9",
   "metadata": {},
   "outputs": [],
   "source": [
    "driver.get(url.format(s='Fruits'))\n",
    "driver.execute_script(\"window.scrollTo(0,document.body.scrollHeight);\")\n",
    "time.sleep(5)\n",
    "FruitimgResults=driver.find_elements(By.XPATH,\"//img[contains(@class,'Q4LuWd')]\")\n",
    "src=[]\n",
    "for img in FruitimgResults:\n",
    "    src.append(img.get_attribute('src'))\n",
    "for i in range(10):    \n",
    "    urllib.request.urlretrieve(str(src[i]),\"E:\\Sample_fruits/Fruits{}.jpg\".format(i))\n",
    "actual_images = driver.find_elements(By.CSS_SELECTOR,('img.n3VNCb'))\n",
    "for actual_image in actual_images:\n",
    "    if actual_image.get_attribute('src') and 'http' in actual_image.get_attribute('src'):\n",
    "        image_urls.add(actual_image.get_attribute('src'))"
   ]
  },
  {
   "cell_type": "markdown",
   "id": "08ad7d22",
   "metadata": {},
   "source": [
    "Cars"
   ]
  },
  {
   "cell_type": "code",
   "execution_count": 10,
   "id": "108b1419",
   "metadata": {},
   "outputs": [],
   "source": [
    "driver.get(url.format(s='Cars'))\n",
    "driver.execute_script(\"window.scrollTo(0,document.body.scrollHeight);\")\n",
    "time.sleep(5)\n",
    "CarimgResults=driver.find_elements(By.XPATH,\"//img[contains(@class,'Q4LuWd')]\")\n",
    "src=[]\n",
    "for img in CarimgResults:\n",
    "    src.append(img.get_attribute('src'))\n",
    "for i in range(10):    \n",
    "    urllib.request.urlretrieve(str(src[i]),\"E:\\Sample_cars/Cars{}.jpg\".format(i))\n",
    "actual_images = driver.find_elements(By.CSS_SELECTOR,('img.n3VNCb'))\n",
    "for actual_image in actual_images:\n",
    "    if actual_image.get_attribute('src') and 'http' in actual_image.get_attribute('src'):\n",
    "        image_urls.add(actual_image.get_attribute('src'))"
   ]
  },
  {
   "cell_type": "markdown",
   "id": "73c7e858",
   "metadata": {},
   "source": [
    "Machine Learning"
   ]
  },
  {
   "cell_type": "code",
   "execution_count": 11,
   "id": "c2b3ac5b",
   "metadata": {},
   "outputs": [],
   "source": [
    "driver.get(url.format(s='Machine Learning'))\n",
    "driver.execute_script(\"window.scrollTo(0,document.body.scrollHeight);\")\n",
    "time.sleep(5)\n",
    "MLimgResults=driver.find_elements(By.XPATH,\"//img[contains(@class,'Q4LuWd')]\")\n",
    "src=[]\n",
    "for img in MLimgResults:\n",
    "    src.append(img.get_attribute('src'))\n",
    "for i in range(10):    \n",
    "    urllib.request.urlretrieve(str(src[i]),\"E:\\Sample_ML/Machine Learning{}.jpg\".format(i))\n",
    "actual_images = driver.find_elements(By.CSS_SELECTOR,('img.n3VNCb'))\n",
    "for actual_image in actual_images:\n",
    "    if actual_image.get_attribute('src') and 'http' in actual_image.get_attribute('src'):\n",
    "        image_urls.add(actual_image.get_attribute('src'))"
   ]
  },
  {
   "cell_type": "markdown",
   "id": "c9edef6c",
   "metadata": {},
   "source": [
    "Guitar"
   ]
  },
  {
   "cell_type": "code",
   "execution_count": 12,
   "id": "7609604b",
   "metadata": {},
   "outputs": [],
   "source": [
    "driver.get(url.format(s='Guitar'))\n",
    "driver.execute_script(\"window.scrollTo(0,document.body.scrollHeight);\")\n",
    "time.sleep(5)\n",
    "GTimgResults=driver.find_elements(By.XPATH,\"//img[contains(@class,'Q4LuWd')]\")\n",
    "src=[]\n",
    "for img in GTimgResults:\n",
    "    src.append(img.get_attribute('src'))\n",
    "for i in range(10):    \n",
    "    urllib.request.urlretrieve(str(src[i]),\"E:\\Sample_GT/Guitar{}.jpg\".format(i))\n",
    "actual_images = driver.find_elements(By.CSS_SELECTOR,('img.n3VNCb'))\n",
    "for actual_image in actual_images:\n",
    "    if actual_image.get_attribute('src') and 'http' in actual_image.get_attribute('src'):\n",
    "        image_urls.add(actual_image.get_attribute('src'))"
   ]
  },
  {
   "cell_type": "markdown",
   "id": "69b1a797",
   "metadata": {},
   "source": [
    "Cakes"
   ]
  },
  {
   "cell_type": "code",
   "execution_count": 13,
   "id": "e96051e0",
   "metadata": {},
   "outputs": [],
   "source": [
    "driver.get(url.format(s='Cakes'))\n",
    "driver.execute_script(\"window.scrollTo(0,document.body.scrollHeight);\")\n",
    "time.sleep(5)\n",
    "CKimgResults=driver.find_elements(By.XPATH,\"//img[contains(@class,'Q4LuWd')]\")\n",
    "src=[]\n",
    "for img in CKimgResults:\n",
    "    src.append(img.get_attribute('src'))\n",
    "for i in range(10):    \n",
    "    urllib.request.urlretrieve(str(src[i]),\"E:\\Sample_CK/Cakes{}.jpg\".format(i))\n",
    "actual_images = driver.find_elements(By.CSS_SELECTOR,('img.n3VNCb'))\n",
    "for actual_image in actual_images:\n",
    "    if actual_image.get_attribute('src') and 'http' in actual_image.get_attribute('src'):\n",
    "        image_urls.add(actual_image.get_attribute('src'))"
   ]
  },
  {
   "cell_type": "markdown",
   "id": "9d7898db",
   "metadata": {},
   "source": [
    "# Q4"
   ]
  },
  {
   "cell_type": "code",
   "execution_count": 10,
   "id": "1fa618cc",
   "metadata": {},
   "outputs": [],
   "source": [
    "driver.get(\"https://www.flipkart.com/\")\n",
    "item1=driver.find_element(By.CLASS_NAME,\"_3704LK\")\n",
    "item1.send_keys('smartphone')\n",
    "search=driver.find_element(By.CLASS_NAME,\"_34RNph\")\n",
    "search.click()"
   ]
  },
  {
   "cell_type": "code",
   "execution_count": 11,
   "id": "77886417",
   "metadata": {},
   "outputs": [],
   "source": [
    "flip_dict={}\n",
    "flip_dict[\"Brand_title\"]=[]\n",
    "flip_dict[\"Smartphone\"]=[]\n",
    "flip_dict[\"Colour\"]=[]\n",
    "RAM=[]\n",
    "Storage=[]\n",
    "PrimaryCam=[]\n",
    "SecCam=[]\n",
    "DisplaySize=[]\n",
    "BatteryCap=[]\n",
    "Price=[]"
   ]
  },
  {
   "cell_type": "code",
   "execution_count": 12,
   "id": "79d6eee7",
   "metadata": {},
   "outputs": [],
   "source": [
    "Product_URL=[]\n",
    "start=0\n",
    "end=1\n",
    "for page in range(start,end):\n",
    "    url=driver.find_elements(By.XPATH,'//a[@class=\"_1fQZEK\"]')\n",
    "    for i in url[0:25]:\n",
    "        Product_URL.append(i.get_attribute(\"href\"))\n",
    "    time.sleep(2)"
   ]
  },
  {
   "cell_type": "code",
   "execution_count": 13,
   "id": "d20a9329",
   "metadata": {},
   "outputs": [],
   "source": [
    "for url in Product_URL[:25]:\n",
    "    driver.get(url)\n",
    "    time.sleep(2)\n",
    "    \n",
    "    try:\n",
    "        brand=driver.find_element(By.XPATH,'//span[@class=\"B_NuCI\"]')\n",
    "        flip_dict[\"Brand_title\"].append(brand.text.split()[0])\n",
    "    except NoSuchElementException:\n",
    "        flip_dict[\"Brand_title\"].append(\"-\")\n",
    "        \n",
    "for url in Product_URL[:25]:\n",
    "    driver.get(url)\n",
    "    time.sleep(2)\n",
    "    \n",
    "    try:\n",
    "        SM=driver.find_element(By.XPATH,'//span[@class=\"B_NuCI\"]')\n",
    "        flip_dict[\"Smartphone\"].append(SM.text.split(',')[0].split('(')[0])\n",
    "    except NoSuchElementException:\n",
    "        flip_dict[\"Smartphone\"].append(\"-\")\n",
    "        \n",
    "for url in Product_URL[:25]:\n",
    "    driver.get(url)\n",
    "    time.sleep(2)\n",
    "    \n",
    "    try:\n",
    "        Col=driver.find_element(By.XPATH,'//span[@class=\"B_NuCI\"]')\n",
    "        flip_dict[\"Colour\"].append(Col.text.split(',')[0].split('(')[1])\n",
    "    except NoSuchElementException:\n",
    "        flip_dict[\"Colour\"].append(\"-\")\n",
    "        \n",
    "for url in Product_URL[:25]:\n",
    "    driver.get(url)\n",
    "    time.sleep(2)\n",
    "        \n",
    "    try: \n",
    "        RM=driver.find_element(By.XPATH,'//div[@class=\"_2418kt\"]/ul/li[1]')\n",
    "        RAM.append(RM.text.split('|')[0])\n",
    "    except NoSuchElementException:\n",
    "        RAM.append(\"-\")\n",
    "    \n",
    "for url in Product_URL[:25]:\n",
    "    driver.get(url)\n",
    "    time.sleep(2)\n",
    "        \n",
    "    try: \n",
    "        ST=driver.find_element(By.XPATH,'//div[@class=\"_2418kt\"]/ul/li[1]')\n",
    "        Storage.append(ST.text.split('|')[1])\n",
    "    except NoSuchElementException:\n",
    "        Storage.append(\"-\")\n",
    "    \n",
    "for url in Product_URL[:25]:\n",
    "    driver.get(url)\n",
    "    time.sleep(2)\n",
    "        \n",
    "    try: \n",
    "        PC=driver.find_element(By.XPATH,'//div[@class=\"_2418kt\"]/ul/li[3]')\n",
    "        PrimaryCam.append(PC.text.split('|')[0])\n",
    "    except NoSuchElementException:\n",
    "        PrimaryCam.append(\"-\")\n",
    "    \n",
    "for url in Product_URL[:25]:\n",
    "    driver.get(url)\n",
    "    time.sleep(2)\n",
    "        \n",
    "    try: \n",
    "        SC=driver.find_element(By.XPATH,'//div[@class=\"_2418kt\"]/ul/li[3]')\n",
    "        SecCam.append(SC.text.split('|')[1])\n",
    "    except NoSuchElementException:\n",
    "        SecCam.append(\"-\")\n",
    "    \n",
    "for url in Product_URL[:25]:\n",
    "    driver.get(url)\n",
    "    time.sleep(2)\n",
    "        \n",
    "    try: \n",
    "        DS=driver.find_element(By.XPATH,'//div[@class=\"_2418kt\"]/ul/li[2]')\n",
    "        DisplaySize.append(DS.text)\n",
    "    except NoSuchElementException:\n",
    "        DisplaySize.append(\"-\")\n",
    "    \n",
    "for url in Product_URL[:25]:\n",
    "    driver.get(url)\n",
    "    time.sleep(2)\n",
    "        \n",
    "    try: \n",
    "        BT=driver.find_element(By.XPATH,'//div[@class=\"_2418kt\"]/ul/li[4]')\n",
    "        BatteryCap.append(BT.text)\n",
    "    except NoSuchElementException:\n",
    "        BatteryCap.append(\"-\")\n",
    "    \n",
    "for url in Product_URL[:25]:\n",
    "    driver.get(url)\n",
    "    time.sleep(2)\n",
    "        \n",
    "    try: \n",
    "        PR=driver.find_element(By.XPATH,'//div[@class=\"_30jeq3\"]')\n",
    "        Price.append(PR.text)\n",
    "    except NoSuchElementException:\n",
    "        Price.append(\"-\")"
   ]
  },
  {
   "cell_type": "code",
   "execution_count": 14,
   "id": "14640a94",
   "metadata": {},
   "outputs": [
    {
     "data": {
      "text/html": [
       "<div>\n",
       "<style scoped>\n",
       "    .dataframe tbody tr th:only-of-type {\n",
       "        vertical-align: middle;\n",
       "    }\n",
       "\n",
       "    .dataframe tbody tr th {\n",
       "        vertical-align: top;\n",
       "    }\n",
       "\n",
       "    .dataframe thead th {\n",
       "        text-align: right;\n",
       "    }\n",
       "</style>\n",
       "<table border=\"1\" class=\"dataframe\">\n",
       "  <thead>\n",
       "    <tr style=\"text-align: right;\">\n",
       "      <th></th>\n",
       "      <th>Brand</th>\n",
       "      <th>SmartPhone</th>\n",
       "      <th>Color</th>\n",
       "      <th>Ram</th>\n",
       "      <th>ROM</th>\n",
       "      <th>Prim_Cam</th>\n",
       "      <th>Sec_Cam</th>\n",
       "      <th>Disp_Size</th>\n",
       "      <th>Batt_Cap</th>\n",
       "      <th>PRICE</th>\n",
       "      <th>URL</th>\n",
       "    </tr>\n",
       "  </thead>\n",
       "  <tbody>\n",
       "    <tr>\n",
       "      <th>0</th>\n",
       "      <td>REDMI</td>\n",
       "      <td>REDMI 9i Sport</td>\n",
       "      <td>Coral Green</td>\n",
       "      <td>4 GB RAM</td>\n",
       "      <td>64 GB ROM</td>\n",
       "      <td>13MP Rear Camera</td>\n",
       "      <td>5MP Front Camera</td>\n",
       "      <td>16.59 cm (6.53 inch) HD+ Display</td>\n",
       "      <td>5000 mAh Li-Polymer Battery</td>\n",
       "      <td>₹7,099</td>\n",
       "      <td>https://www.flipkart.com/redmi-9i-sport-coral-...</td>\n",
       "    </tr>\n",
       "    <tr>\n",
       "      <th>1</th>\n",
       "      <td>REDMI</td>\n",
       "      <td>REDMI 9i Sport</td>\n",
       "      <td>Metallic Blue</td>\n",
       "      <td>4 GB RAM</td>\n",
       "      <td>64 GB ROM</td>\n",
       "      <td>13MP Rear Camera</td>\n",
       "      <td>5MP Front Camera</td>\n",
       "      <td>16.59 cm (6.53 inch) HD+ Display</td>\n",
       "      <td>5000 mAh Li-Polymer Battery</td>\n",
       "      <td>₹7,099</td>\n",
       "      <td>https://www.flipkart.com/redmi-9i-sport-metall...</td>\n",
       "    </tr>\n",
       "    <tr>\n",
       "      <th>2</th>\n",
       "      <td>POCO</td>\n",
       "      <td>POCO C31</td>\n",
       "      <td>Royal Blue</td>\n",
       "      <td>4 GB RAM</td>\n",
       "      <td>64 GB ROM</td>\n",
       "      <td>13MP + 2MP + 2MP</td>\n",
       "      <td>5MP Front Camera</td>\n",
       "      <td>16.59 cm (6.53 inch) HD+ Display</td>\n",
       "      <td>5000 mAh Lithium-ion Polymer Battery</td>\n",
       "      <td>₹7,499</td>\n",
       "      <td>https://www.flipkart.com/poco-c31-royal-blue-6...</td>\n",
       "    </tr>\n",
       "    <tr>\n",
       "      <th>3</th>\n",
       "      <td>MOTOROLA</td>\n",
       "      <td>MOTOROLA e40</td>\n",
       "      <td>Carbon Gray</td>\n",
       "      <td>4 GB RAM</td>\n",
       "      <td>64 GB ROM</td>\n",
       "      <td>48MP + 2MP + 2MP</td>\n",
       "      <td>8MP Front Camera</td>\n",
       "      <td>16.51 cm (6.5 inch) HD+ Display</td>\n",
       "      <td>5000 mAh Battery</td>\n",
       "      <td>₹7,999</td>\n",
       "      <td>https://www.flipkart.com/motorola-e40-carbon-g...</td>\n",
       "    </tr>\n",
       "    <tr>\n",
       "      <th>4</th>\n",
       "      <td>POCO</td>\n",
       "      <td>POCO C31</td>\n",
       "      <td>Shadow Gray</td>\n",
       "      <td>4 GB RAM</td>\n",
       "      <td>64 GB ROM</td>\n",
       "      <td>13MP + 2MP + 2MP</td>\n",
       "      <td>5MP Front Camera</td>\n",
       "      <td>16.59 cm (6.53 inch) HD+ Display</td>\n",
       "      <td>5000 mAh Lithium-ion Polymer Battery</td>\n",
       "      <td>₹7,499</td>\n",
       "      <td>https://www.flipkart.com/poco-c31-shadow-gray-...</td>\n",
       "    </tr>\n",
       "    <tr>\n",
       "      <th>5</th>\n",
       "      <td>realme</td>\n",
       "      <td>realme 9i</td>\n",
       "      <td>Prism Blue</td>\n",
       "      <td>4 GB RAM</td>\n",
       "      <td>128 GB ROM</td>\n",
       "      <td>50MP + 2MP + 2MP</td>\n",
       "      <td>16MP Front Camera</td>\n",
       "      <td>16.76 cm (6.6 inch) Full HD+ Display</td>\n",
       "      <td>5000 mAh Lithium ion Battery</td>\n",
       "      <td>₹11,499</td>\n",
       "      <td>https://www.flipkart.com/realme-9i-prism-blue-...</td>\n",
       "    </tr>\n",
       "    <tr>\n",
       "      <th>6</th>\n",
       "      <td>REDMI</td>\n",
       "      <td>REDMI 10</td>\n",
       "      <td>Caribbean Green</td>\n",
       "      <td>4 GB RAM</td>\n",
       "      <td>64 GB ROM</td>\n",
       "      <td>50MP + 2MP</td>\n",
       "      <td>5MP Front Camera</td>\n",
       "      <td>17.02 cm (6.7 inch) HD+ Display</td>\n",
       "      <td>6000 mAh Lithium Polymer Battery</td>\n",
       "      <td>₹9,499</td>\n",
       "      <td>https://www.flipkart.com/redmi-10-caribbean-gr...</td>\n",
       "    </tr>\n",
       "    <tr>\n",
       "      <th>7</th>\n",
       "      <td>realme</td>\n",
       "      <td>realme C30</td>\n",
       "      <td>Lake Blue</td>\n",
       "      <td>2 GB RAM</td>\n",
       "      <td>32 GB ROM</td>\n",
       "      <td>8MP Rear Camera</td>\n",
       "      <td>5MP Front Camera</td>\n",
       "      <td>16.51 cm (6.5 inch) HD+ Display</td>\n",
       "      <td>5000 mAh Lithium Ion Battery</td>\n",
       "      <td>₹5,999</td>\n",
       "      <td>https://www.flipkart.com/realme-c30-lake-blue-...</td>\n",
       "    </tr>\n",
       "    <tr>\n",
       "      <th>8</th>\n",
       "      <td>realme</td>\n",
       "      <td>realme C30</td>\n",
       "      <td>Bamboo Green</td>\n",
       "      <td>2 GB RAM</td>\n",
       "      <td>32 GB ROM</td>\n",
       "      <td>8MP Rear Camera</td>\n",
       "      <td>5MP Front Camera</td>\n",
       "      <td>16.51 cm (6.5 inch) HD+ Display</td>\n",
       "      <td>5000 mAh Lithium Ion Battery</td>\n",
       "      <td>₹5,999</td>\n",
       "      <td>https://www.flipkart.com/realme-c30-bamboo-gre...</td>\n",
       "    </tr>\n",
       "    <tr>\n",
       "      <th>9</th>\n",
       "      <td>realme</td>\n",
       "      <td>realme C30</td>\n",
       "      <td>Denim Black</td>\n",
       "      <td>2 GB RAM</td>\n",
       "      <td>32 GB ROM</td>\n",
       "      <td>8MP Rear Camera</td>\n",
       "      <td>5MP Front Camera</td>\n",
       "      <td>16.51 cm (6.5 inch) HD+ Display</td>\n",
       "      <td>5000 mAh Lithium Ion Battery</td>\n",
       "      <td>₹5,999</td>\n",
       "      <td>https://www.flipkart.com/realme-c30-denim-blac...</td>\n",
       "    </tr>\n",
       "    <tr>\n",
       "      <th>10</th>\n",
       "      <td>MOTOROLA</td>\n",
       "      <td>MOTOROLA e40</td>\n",
       "      <td>Pink Clay</td>\n",
       "      <td>4 GB RAM</td>\n",
       "      <td>64 GB ROM</td>\n",
       "      <td>48MP + 2MP + 2MP</td>\n",
       "      <td>8MP Front Camera</td>\n",
       "      <td>16.51 cm (6.5 inch) HD+ Display</td>\n",
       "      <td>5000 mAh Battery</td>\n",
       "      <td>₹7,999</td>\n",
       "      <td>https://www.flipkart.com/motorola-e40-pink-cla...</td>\n",
       "    </tr>\n",
       "    <tr>\n",
       "      <th>11</th>\n",
       "      <td>REDMI</td>\n",
       "      <td>REDMI 9i Sport</td>\n",
       "      <td>Carbon Black</td>\n",
       "      <td>4 GB RAM</td>\n",
       "      <td>64 GB ROM</td>\n",
       "      <td>13MP Rear Camera</td>\n",
       "      <td>5MP Front Camera</td>\n",
       "      <td>16.59 cm (6.53 inch) HD+ Display</td>\n",
       "      <td>5000 mAh Li-Polymer Battery</td>\n",
       "      <td>₹7,099</td>\n",
       "      <td>https://www.flipkart.com/redmi-9i-sport-carbon...</td>\n",
       "    </tr>\n",
       "    <tr>\n",
       "      <th>12</th>\n",
       "      <td>REDMI</td>\n",
       "      <td>REDMI 10</td>\n",
       "      <td>Pacific Blue</td>\n",
       "      <td>4 GB RAM</td>\n",
       "      <td>64 GB ROM</td>\n",
       "      <td>50MP + 2MP</td>\n",
       "      <td>5MP Front Camera</td>\n",
       "      <td>17.02 cm (6.7 inch) HD+ Display</td>\n",
       "      <td>6000 mAh Lithium Polymer Battery</td>\n",
       "      <td>₹9,499</td>\n",
       "      <td>https://www.flipkart.com/redmi-10-pacific-blue...</td>\n",
       "    </tr>\n",
       "    <tr>\n",
       "      <th>13</th>\n",
       "      <td>realme</td>\n",
       "      <td>realme 9i</td>\n",
       "      <td>Prism Black</td>\n",
       "      <td>4 GB RAM</td>\n",
       "      <td>128 GB ROM</td>\n",
       "      <td>50MP + 2MP + 2MP</td>\n",
       "      <td>16MP Front Camera</td>\n",
       "      <td>16.76 cm (6.6 inch) Full HD+ Display</td>\n",
       "      <td>5000 mAh Lithium ion Battery</td>\n",
       "      <td>₹11,499</td>\n",
       "      <td>https://www.flipkart.com/realme-9i-prism-black...</td>\n",
       "    </tr>\n",
       "    <tr>\n",
       "      <th>14</th>\n",
       "      <td>realme</td>\n",
       "      <td>realme 9</td>\n",
       "      <td>Sunburst Gold</td>\n",
       "      <td>6 GB RAM</td>\n",
       "      <td>128 GB ROM</td>\n",
       "      <td>108MP + 8MP + 2MP</td>\n",
       "      <td>16MP Front Camera</td>\n",
       "      <td>16.26 cm (6.4 inch) Full HD+ AMOLED Display</td>\n",
       "      <td>5000 mAh Lithium Ion Battery</td>\n",
       "      <td>₹13,999</td>\n",
       "      <td>https://www.flipkart.com/realme-9-sunburst-gol...</td>\n",
       "    </tr>\n",
       "    <tr>\n",
       "      <th>15</th>\n",
       "      <td>MOTOROLA</td>\n",
       "      <td>MOTOROLA g52</td>\n",
       "      <td>Charcoal Grey</td>\n",
       "      <td>6 GB RAM</td>\n",
       "      <td>128 GB ROM</td>\n",
       "      <td>50MP + 8MP + 2MP</td>\n",
       "      <td>16MP Front Camera</td>\n",
       "      <td>16.76 cm (6.6 inch) Full HD+ Display</td>\n",
       "      <td>5000 mAh Lithium Battery</td>\n",
       "      <td>₹12,999</td>\n",
       "      <td>https://www.flipkart.com/motorola-g52-charcoal...</td>\n",
       "    </tr>\n",
       "    <tr>\n",
       "      <th>16</th>\n",
       "      <td>realme</td>\n",
       "      <td>realme 9</td>\n",
       "      <td>Meteor Black</td>\n",
       "      <td>6 GB RAM</td>\n",
       "      <td>128 GB ROM</td>\n",
       "      <td>108MP + 8MP + 2MP</td>\n",
       "      <td>16MP Front Camera</td>\n",
       "      <td>16.26 cm (6.4 inch) Full HD+ AMOLED Display</td>\n",
       "      <td>5000 mAh Lithium Ion Battery</td>\n",
       "      <td>₹13,999</td>\n",
       "      <td>https://www.flipkart.com/realme-9-meteor-black...</td>\n",
       "    </tr>\n",
       "    <tr>\n",
       "      <th>17</th>\n",
       "      <td>POCO</td>\n",
       "      <td>POCO M4 Pro</td>\n",
       "      <td>Cool Blue</td>\n",
       "      <td>6 GB RAM</td>\n",
       "      <td>64 GB ROM</td>\n",
       "      <td>64MP + 8MP + 2MP</td>\n",
       "      <td>16MP Front Camera</td>\n",
       "      <td>16.33 cm (6.43 inch) Full HD+ AMOLED Display</td>\n",
       "      <td>5000 mAh Lithium-ion Polymer Battery</td>\n",
       "      <td>₹11,999</td>\n",
       "      <td>https://www.flipkart.com/poco-m4-pro-cool-blue...</td>\n",
       "    </tr>\n",
       "    <tr>\n",
       "      <th>18</th>\n",
       "      <td>realme</td>\n",
       "      <td>realme C30</td>\n",
       "      <td>Denim Black</td>\n",
       "      <td>3 GB RAM</td>\n",
       "      <td>32 GB ROM</td>\n",
       "      <td>8MP Rear Camera</td>\n",
       "      <td>5MP Front Camera</td>\n",
       "      <td>16.51 cm (6.5 inch) HD+ Display</td>\n",
       "      <td>5000 mAh Lithium Ion Battery</td>\n",
       "      <td>₹6,999</td>\n",
       "      <td>https://www.flipkart.com/realme-c30-denim-blac...</td>\n",
       "    </tr>\n",
       "    <tr>\n",
       "      <th>19</th>\n",
       "      <td>realme</td>\n",
       "      <td>realme C30</td>\n",
       "      <td>Lake Blue</td>\n",
       "      <td>3 GB RAM</td>\n",
       "      <td>32 GB ROM</td>\n",
       "      <td>8MP Rear Camera</td>\n",
       "      <td>5MP Front Camera</td>\n",
       "      <td>16.51 cm (6.5 inch) HD+ Display</td>\n",
       "      <td>5000 mAh Lithium Ion Battery</td>\n",
       "      <td>₹6,999</td>\n",
       "      <td>https://www.flipkart.com/realme-c30-lake-blue-...</td>\n",
       "    </tr>\n",
       "    <tr>\n",
       "      <th>20</th>\n",
       "      <td>realme</td>\n",
       "      <td>realme C30</td>\n",
       "      <td>Bamboo Green</td>\n",
       "      <td>3 GB RAM</td>\n",
       "      <td>32 GB ROM</td>\n",
       "      <td>8MP Rear Camera</td>\n",
       "      <td>5MP Front Camera</td>\n",
       "      <td>16.51 cm (6.5 inch) HD+ Display</td>\n",
       "      <td>5000 mAh Lithium Ion Battery</td>\n",
       "      <td>₹6,999</td>\n",
       "      <td>https://www.flipkart.com/realme-c30-bamboo-gre...</td>\n",
       "    </tr>\n",
       "    <tr>\n",
       "      <th>21</th>\n",
       "      <td>REDMI</td>\n",
       "      <td>REDMI 10</td>\n",
       "      <td>Midnight Black</td>\n",
       "      <td>4 GB RAM</td>\n",
       "      <td>64 GB ROM</td>\n",
       "      <td>50MP + 2MP</td>\n",
       "      <td>5MP Front Camera</td>\n",
       "      <td>17.02 cm (6.7 inch) HD+ Display</td>\n",
       "      <td>6000 mAh Lithium Polymer Battery</td>\n",
       "      <td>₹9,499</td>\n",
       "      <td>https://www.flipkart.com/redmi-10-midnight-bla...</td>\n",
       "    </tr>\n",
       "    <tr>\n",
       "      <th>22</th>\n",
       "      <td>MOTOROLA</td>\n",
       "      <td>MOTOROLA G32</td>\n",
       "      <td>Mineral Gray</td>\n",
       "      <td>4 GB RAM</td>\n",
       "      <td>64 GB ROM</td>\n",
       "      <td>50MP + 8MP + 2MP</td>\n",
       "      <td>16MP Front Camera</td>\n",
       "      <td>16.64 cm (6.55 inch) Full HD+ Display</td>\n",
       "      <td>5000 mAh Lithium Polymer Battery</td>\n",
       "      <td>₹9,999</td>\n",
       "      <td>https://www.flipkart.com/motorola-g32-mineral-...</td>\n",
       "    </tr>\n",
       "    <tr>\n",
       "      <th>23</th>\n",
       "      <td>MOTOROLA</td>\n",
       "      <td>MOTOROLA g52</td>\n",
       "      <td>Metallic White</td>\n",
       "      <td>6 GB RAM</td>\n",
       "      <td>128 GB ROM</td>\n",
       "      <td>50MP + 8MP + 2MP</td>\n",
       "      <td>16MP Front Camera</td>\n",
       "      <td>16.76 cm (6.6 inch) Full HD+ Display</td>\n",
       "      <td>5000 mAh Lithium Battery</td>\n",
       "      <td>₹12,999</td>\n",
       "      <td>https://www.flipkart.com/motorola-g52-metallic...</td>\n",
       "    </tr>\n",
       "  </tbody>\n",
       "</table>\n",
       "</div>"
      ],
      "text/plain": [
       "       Brand       SmartPhone            Color        Ram           ROM  \\\n",
       "0      REDMI  REDMI 9i Sport       Coral Green  4 GB RAM     64 GB ROM    \n",
       "1      REDMI  REDMI 9i Sport     Metallic Blue  4 GB RAM     64 GB ROM    \n",
       "2       POCO        POCO C31        Royal Blue  4 GB RAM     64 GB ROM    \n",
       "3   MOTOROLA    MOTOROLA e40       Carbon Gray  4 GB RAM     64 GB ROM    \n",
       "4       POCO        POCO C31       Shadow Gray  4 GB RAM     64 GB ROM    \n",
       "5     realme       realme 9i        Prism Blue  4 GB RAM    128 GB ROM    \n",
       "6      REDMI        REDMI 10   Caribbean Green  4 GB RAM     64 GB ROM    \n",
       "7     realme      realme C30         Lake Blue  2 GB RAM     32 GB ROM    \n",
       "8     realme      realme C30      Bamboo Green  2 GB RAM     32 GB ROM    \n",
       "9     realme      realme C30       Denim Black  2 GB RAM     32 GB ROM    \n",
       "10  MOTOROLA    MOTOROLA e40         Pink Clay  4 GB RAM     64 GB ROM    \n",
       "11     REDMI  REDMI 9i Sport      Carbon Black  4 GB RAM     64 GB ROM    \n",
       "12     REDMI        REDMI 10      Pacific Blue  4 GB RAM     64 GB ROM    \n",
       "13    realme       realme 9i       Prism Black  4 GB RAM    128 GB ROM    \n",
       "14    realme        realme 9     Sunburst Gold  6 GB RAM    128 GB ROM    \n",
       "15  MOTOROLA    MOTOROLA g52     Charcoal Grey  6 GB RAM     128 GB ROM   \n",
       "16    realme        realme 9      Meteor Black  6 GB RAM    128 GB ROM    \n",
       "17      POCO     POCO M4 Pro         Cool Blue  6 GB RAM     64 GB ROM    \n",
       "18    realme      realme C30       Denim Black  3 GB RAM     32 GB ROM    \n",
       "19    realme      realme C30         Lake Blue  3 GB RAM     32 GB ROM    \n",
       "20    realme      realme C30      Bamboo Green  3 GB RAM     32 GB ROM    \n",
       "21     REDMI        REDMI 10    Midnight Black  4 GB RAM     64 GB ROM    \n",
       "22  MOTOROLA    MOTOROLA G32      Mineral Gray  4 GB RAM      64 GB ROM   \n",
       "23  MOTOROLA    MOTOROLA g52    Metallic White  6 GB RAM     128 GB ROM   \n",
       "\n",
       "              Prim_Cam             Sec_Cam  \\\n",
       "0    13MP Rear Camera     5MP Front Camera   \n",
       "1    13MP Rear Camera     5MP Front Camera   \n",
       "2    13MP + 2MP + 2MP     5MP Front Camera   \n",
       "3    48MP + 2MP + 2MP     8MP Front Camera   \n",
       "4    13MP + 2MP + 2MP     5MP Front Camera   \n",
       "5    50MP + 2MP + 2MP    16MP Front Camera   \n",
       "6          50MP + 2MP     5MP Front Camera   \n",
       "7     8MP Rear Camera     5MP Front Camera   \n",
       "8     8MP Rear Camera     5MP Front Camera   \n",
       "9     8MP Rear Camera     5MP Front Camera   \n",
       "10   48MP + 2MP + 2MP     8MP Front Camera   \n",
       "11   13MP Rear Camera     5MP Front Camera   \n",
       "12         50MP + 2MP     5MP Front Camera   \n",
       "13   50MP + 2MP + 2MP    16MP Front Camera   \n",
       "14  108MP + 8MP + 2MP    16MP Front Camera   \n",
       "15   50MP + 8MP + 2MP    16MP Front Camera   \n",
       "16  108MP + 8MP + 2MP    16MP Front Camera   \n",
       "17   64MP + 8MP + 2MP    16MP Front Camera   \n",
       "18    8MP Rear Camera     5MP Front Camera   \n",
       "19    8MP Rear Camera     5MP Front Camera   \n",
       "20    8MP Rear Camera     5MP Front Camera   \n",
       "21         50MP + 2MP     5MP Front Camera   \n",
       "22   50MP + 8MP + 2MP    16MP Front Camera   \n",
       "23   50MP + 8MP + 2MP    16MP Front Camera   \n",
       "\n",
       "                                       Disp_Size  \\\n",
       "0               16.59 cm (6.53 inch) HD+ Display   \n",
       "1               16.59 cm (6.53 inch) HD+ Display   \n",
       "2               16.59 cm (6.53 inch) HD+ Display   \n",
       "3                16.51 cm (6.5 inch) HD+ Display   \n",
       "4               16.59 cm (6.53 inch) HD+ Display   \n",
       "5           16.76 cm (6.6 inch) Full HD+ Display   \n",
       "6                17.02 cm (6.7 inch) HD+ Display   \n",
       "7                16.51 cm (6.5 inch) HD+ Display   \n",
       "8                16.51 cm (6.5 inch) HD+ Display   \n",
       "9                16.51 cm (6.5 inch) HD+ Display   \n",
       "10               16.51 cm (6.5 inch) HD+ Display   \n",
       "11              16.59 cm (6.53 inch) HD+ Display   \n",
       "12               17.02 cm (6.7 inch) HD+ Display   \n",
       "13          16.76 cm (6.6 inch) Full HD+ Display   \n",
       "14   16.26 cm (6.4 inch) Full HD+ AMOLED Display   \n",
       "15          16.76 cm (6.6 inch) Full HD+ Display   \n",
       "16   16.26 cm (6.4 inch) Full HD+ AMOLED Display   \n",
       "17  16.33 cm (6.43 inch) Full HD+ AMOLED Display   \n",
       "18               16.51 cm (6.5 inch) HD+ Display   \n",
       "19               16.51 cm (6.5 inch) HD+ Display   \n",
       "20               16.51 cm (6.5 inch) HD+ Display   \n",
       "21               17.02 cm (6.7 inch) HD+ Display   \n",
       "22         16.64 cm (6.55 inch) Full HD+ Display   \n",
       "23          16.76 cm (6.6 inch) Full HD+ Display   \n",
       "\n",
       "                                Batt_Cap    PRICE  \\\n",
       "0            5000 mAh Li-Polymer Battery   ₹7,099   \n",
       "1            5000 mAh Li-Polymer Battery   ₹7,099   \n",
       "2   5000 mAh Lithium-ion Polymer Battery   ₹7,499   \n",
       "3                       5000 mAh Battery   ₹7,999   \n",
       "4   5000 mAh Lithium-ion Polymer Battery   ₹7,499   \n",
       "5           5000 mAh Lithium ion Battery  ₹11,499   \n",
       "6       6000 mAh Lithium Polymer Battery   ₹9,499   \n",
       "7           5000 mAh Lithium Ion Battery   ₹5,999   \n",
       "8           5000 mAh Lithium Ion Battery   ₹5,999   \n",
       "9           5000 mAh Lithium Ion Battery   ₹5,999   \n",
       "10                      5000 mAh Battery   ₹7,999   \n",
       "11           5000 mAh Li-Polymer Battery   ₹7,099   \n",
       "12      6000 mAh Lithium Polymer Battery   ₹9,499   \n",
       "13          5000 mAh Lithium ion Battery  ₹11,499   \n",
       "14          5000 mAh Lithium Ion Battery  ₹13,999   \n",
       "15              5000 mAh Lithium Battery  ₹12,999   \n",
       "16          5000 mAh Lithium Ion Battery  ₹13,999   \n",
       "17  5000 mAh Lithium-ion Polymer Battery  ₹11,999   \n",
       "18          5000 mAh Lithium Ion Battery   ₹6,999   \n",
       "19          5000 mAh Lithium Ion Battery   ₹6,999   \n",
       "20          5000 mAh Lithium Ion Battery   ₹6,999   \n",
       "21      6000 mAh Lithium Polymer Battery   ₹9,499   \n",
       "22      5000 mAh Lithium Polymer Battery   ₹9,999   \n",
       "23              5000 mAh Lithium Battery  ₹12,999   \n",
       "\n",
       "                                                  URL  \n",
       "0   https://www.flipkart.com/redmi-9i-sport-coral-...  \n",
       "1   https://www.flipkart.com/redmi-9i-sport-metall...  \n",
       "2   https://www.flipkart.com/poco-c31-royal-blue-6...  \n",
       "3   https://www.flipkart.com/motorola-e40-carbon-g...  \n",
       "4   https://www.flipkart.com/poco-c31-shadow-gray-...  \n",
       "5   https://www.flipkart.com/realme-9i-prism-blue-...  \n",
       "6   https://www.flipkart.com/redmi-10-caribbean-gr...  \n",
       "7   https://www.flipkart.com/realme-c30-lake-blue-...  \n",
       "8   https://www.flipkart.com/realme-c30-bamboo-gre...  \n",
       "9   https://www.flipkart.com/realme-c30-denim-blac...  \n",
       "10  https://www.flipkart.com/motorola-e40-pink-cla...  \n",
       "11  https://www.flipkart.com/redmi-9i-sport-carbon...  \n",
       "12  https://www.flipkart.com/redmi-10-pacific-blue...  \n",
       "13  https://www.flipkart.com/realme-9i-prism-black...  \n",
       "14  https://www.flipkart.com/realme-9-sunburst-gol...  \n",
       "15  https://www.flipkart.com/motorola-g52-charcoal...  \n",
       "16  https://www.flipkart.com/realme-9-meteor-black...  \n",
       "17  https://www.flipkart.com/poco-m4-pro-cool-blue...  \n",
       "18  https://www.flipkart.com/realme-c30-denim-blac...  \n",
       "19  https://www.flipkart.com/realme-c30-lake-blue-...  \n",
       "20  https://www.flipkart.com/realme-c30-bamboo-gre...  \n",
       "21  https://www.flipkart.com/redmi-10-midnight-bla...  \n",
       "22  https://www.flipkart.com/motorola-g32-mineral-...  \n",
       "23  https://www.flipkart.com/motorola-g52-metallic...  "
      ]
     },
     "execution_count": 14,
     "metadata": {},
     "output_type": "execute_result"
    }
   ],
   "source": [
    "df4=pd.DataFrame({'Brand':flip_dict[\"Brand_title\"][:25],'SmartPhone':flip_dict[\"Smartphone\"][:25],'Color':flip_dict[\"Colour\"][:25],'Ram':RAM[:25],'ROM':Storage[:25],'Prim_Cam':PrimaryCam[:25],'Sec_Cam':SecCam[:25],'Disp_Size':DisplaySize[:25],'Batt_Cap':BatteryCap[:25],'PRICE':Price[:25],'URL':Product_URL[:25]})\n",
    "df4"
   ]
  },
  {
   "cell_type": "code",
   "execution_count": 15,
   "id": "b64c9eae",
   "metadata": {},
   "outputs": [],
   "source": [
    "df4.to_csv('smartphone.csv')"
   ]
  },
  {
   "cell_type": "markdown",
   "id": "c69952d0",
   "metadata": {},
   "source": [
    "# Q5"
   ]
  },
  {
   "cell_type": "code",
   "execution_count": 4,
   "id": "6005acde",
   "metadata": {},
   "outputs": [],
   "source": [
    "driver.get(\"https://www.google.com/maps\")\n",
    "item=driver.find_element(By.ID,\"searchboxinput\")\n",
    "item.send_keys('Pune')\n",
    "search=driver.find_element(By.ID,\"searchbox-searchbutton\")\n",
    "search.click()"
   ]
  },
  {
   "cell_type": "code",
   "execution_count": 5,
   "id": "3cd87d57",
   "metadata": {},
   "outputs": [
    {
     "name": "stdout",
     "output_type": "stream",
     "text": [
      "The latitude of the location is:  18.521428\n",
      "The longitude of the location is:  73.8544541\n"
     ]
    }
   ],
   "source": [
    "geolocator = Nominatim(user_agent=\"MyApp\")\n",
    "location = geolocator.geocode(\"Pune\")\n",
    "print(\"The latitude of the location is: \", location.latitude)\n",
    "print(\"The longitude of the location is: \", location.longitude)"
   ]
  },
  {
   "cell_type": "markdown",
   "id": "797ba4d5",
   "metadata": {},
   "source": [
    "# Q6"
   ]
  },
  {
   "cell_type": "code",
   "execution_count": 23,
   "id": "b03b990a",
   "metadata": {},
   "outputs": [],
   "source": [
    "driver.get(\"https://trak.in/stories/category/funding-deals/\")"
   ]
  },
  {
   "cell_type": "code",
   "execution_count": null,
   "id": "3c5e7614",
   "metadata": {},
   "outputs": [],
   "source": [
    "the page is not opening to funding deals. during doubt clearance session the mentor said to opt for \n",
    "this question is optional since many were facing the same issue."
   ]
  },
  {
   "cell_type": "markdown",
   "id": "f1dfcc34",
   "metadata": {},
   "source": [
    "# Q7"
   ]
  },
  {
   "cell_type": "code",
   "execution_count": 156,
   "id": "2af2f5d3",
   "metadata": {},
   "outputs": [],
   "source": [
    "driver.get(\"https://www.digit.in/top-products/best-gaming-laptops-40.html\")"
   ]
  },
  {
   "cell_type": "code",
   "execution_count": 148,
   "id": "be641794",
   "metadata": {},
   "outputs": [],
   "source": [
    "Brand_name=[]\n",
    "Processor=[]\n",
    "Display=[]\n",
    "OS=[]\n",
    "Memory=[]\n",
    "Graphics_Proc=[]\n",
    "Body=[]\n",
    "Price=[]"
   ]
  },
  {
   "cell_type": "code",
   "execution_count": 149,
   "id": "a3f273f0",
   "metadata": {},
   "outputs": [],
   "source": [
    "Brand_tags=driver.find_elements(By.XPATH,\"//div[@class='TopNumbeHeading']\")\n",
    "for i in Brand_tags[0:10]:\n",
    "    Brand=i.text\n",
    "    Brand_name.append(Brand.replace(\"\\n\",\"\"))\n",
    "    \n",
    "Proc_tags=driver.find_elements(By.XPATH,\"//div[@class='product-detail']/div/ul/li[4]/div/div\")\n",
    "for i in Proc_tags[0:10]:\n",
    "    Proc1=i.text\n",
    "    Processor.append(Proc1)\n",
    "    \n",
    "Dis_tags=driver.find_elements(By.XPATH,\"//div[@class='product-detail']/div/ul/li[2]/div/div\")\n",
    "for i in Dis_tags[0:10]:\n",
    "    Disp=i.text\n",
    "    Display.append(Disp)\n",
    "    \n",
    "Os_tags=driver.find_elements(By.XPATH,\"//div[@class='product-detail']/div/ul/li[1]/div/div\")\n",
    "for i in Os_tags[0:10]:\n",
    "    Os1=i.text\n",
    "    OS.append(Os1)\n",
    "    \n",
    "Mem_tags=driver.find_elements(By.XPATH,\"//div[@class='product-detail']/div/ul/li[5]/div/div\")\n",
    "for i in Mem_tags[0:10]:\n",
    "    Mem=i.text\n",
    "    Memory.append(Mem)   \n",
    "    \n",
    "Gra_tags=driver.find_elements(By.XPATH,\"//div[@class='Spcs-details']/table/tbody/tr[7]\")\n",
    "for i in Gra_tags[0:10]:\n",
    "    Gra1=i.text\n",
    "    Graphics_Proc.append(Gra1)\n",
    "    \n",
    "BD_tags=driver.find_elements(By.XPATH,\"//div[@class='Spcs-details']/table/tbody/tr[8]\")\n",
    "for i in BD_tags[0:10]:\n",
    "    BD1=i.text\n",
    "    Body.append(BD1)\n",
    "    \n",
    "PR_tags=driver.find_elements(By.XPATH,\"//div[@class='Spcs-details']/table/tbody/tr[9]\")\n",
    "for i in PR_tags[0:10]:\n",
    "    PR1=i.text\n",
    "    Price.append(PR1)"
   ]
  },
  {
   "cell_type": "code",
   "execution_count": 157,
   "id": "788fa8d9",
   "metadata": {},
   "outputs": [
    {
     "name": "stdout",
     "output_type": "stream",
     "text": [
      "10 10 10 10 10 10 9\n"
     ]
    }
   ],
   "source": [
    "print(len(Brand_name),len(Processor),len(Display),len(Memory),len(Graphics_Proc),len(Body),len(Price))"
   ]
  },
  {
   "cell_type": "code",
   "execution_count": 160,
   "id": "156b3453",
   "metadata": {},
   "outputs": [
    {
     "data": {
      "text/html": [
       "<div>\n",
       "<style scoped>\n",
       "    .dataframe tbody tr th:only-of-type {\n",
       "        vertical-align: middle;\n",
       "    }\n",
       "\n",
       "    .dataframe tbody tr th {\n",
       "        vertical-align: top;\n",
       "    }\n",
       "\n",
       "    .dataframe thead th {\n",
       "        text-align: right;\n",
       "    }\n",
       "</style>\n",
       "<table border=\"1\" class=\"dataframe\">\n",
       "  <thead>\n",
       "    <tr style=\"text-align: right;\">\n",
       "      <th></th>\n",
       "      <th>Brand</th>\n",
       "      <th>PROCESSOR</th>\n",
       "      <th>DISPLAY</th>\n",
       "      <th>MEMORY</th>\n",
       "      <th>Graphics_Processor</th>\n",
       "      <th>BODY</th>\n",
       "      <th>PRICE</th>\n",
       "    </tr>\n",
       "  </thead>\n",
       "  <tbody>\n",
       "    <tr>\n",
       "      <th>0</th>\n",
       "      <td>1.MSI Titan GT77-12UHS</td>\n",
       "      <td>12th Gen Intel Core i9-12900HX | NA Processor</td>\n",
       "      <td>17.3\" (3840 x 2160) Display</td>\n",
       "      <td>2 TB SSD/64 GB DDR5 Memory</td>\n",
       "      <td>Graphics Processor : 16 GB DDR6 NVIDIA GeForce...</td>\n",
       "      <td>Body : 397 x 330 x 23 mm dimension &amp; 3.3 kg we...</td>\n",
       "      <td>Price : ₹ 389,990</td>\n",
       "    </tr>\n",
       "    <tr>\n",
       "      <th>1</th>\n",
       "      <td>2.Alienware X17 R2</td>\n",
       "      <td>12th Gen Intel Core i9-12900H | 5 GHz Processor</td>\n",
       "      <td>17.3\" (1920 x 1080) Display</td>\n",
       "      <td>1 TB SSD/32 GB DDR5 Memory</td>\n",
       "      <td>Graphics Processor : 16 GB DDR6 NVIDIA GEFORCE...</td>\n",
       "      <td>Body : 299 x 359 x 21 mm dimension &amp; 2.96 kg w...</td>\n",
       "      <td>Price : ₹ 229,990</td>\n",
       "    </tr>\n",
       "    <tr>\n",
       "      <th>2</th>\n",
       "      <td>3.Acer Predator Triton 500 SE PT516-52s</td>\n",
       "      <td>12th Gen Intel Core i7-12700H | 3.5 GHz Processor</td>\n",
       "      <td>16\" (2560 x 1600) Display</td>\n",
       "      <td>2 TB SSD/32 GB DDR5 Memory</td>\n",
       "      <td>Graphics Processor : 8 GB DDR6 NVIDIA GeForce ...</td>\n",
       "      <td>Body : 262 x 359 x 20 mm dimension &amp; 2.4 kg we...</td>\n",
       "      <td>Price : ₹ 176,490</td>\n",
       "    </tr>\n",
       "    <tr>\n",
       "      <th>3</th>\n",
       "      <td>4.Omen By HP (16-B1371TX)</td>\n",
       "      <td>12th Gen Intel Core i7-12700H | 4.7 GHz Processor</td>\n",
       "      <td>16.1\" (2560 x 1440) Display</td>\n",
       "      <td>1 TB SSD/8 GB DDR5 Memory</td>\n",
       "      <td>Graphics Processor : 8 GB GDDR6 NVIDIA GeForce...</td>\n",
       "      <td>Body : 369 x 248 x 23 mm dimension &amp; 2.32 kg w...</td>\n",
       "      <td>Price : ₹ 172,999</td>\n",
       "    </tr>\n",
       "    <tr>\n",
       "      <th>4</th>\n",
       "      <td>5.Acer Predator Helios 300 AN515-45</td>\n",
       "      <td>AMD Ryzen 9-5900HX | NA Processor</td>\n",
       "      <td>15.6\" (2560 x 1440) Display</td>\n",
       "      <td>512 GB SSD/16 GB DDR4 Memory</td>\n",
       "      <td>Graphics Processor : 8 GB DDR6 NVIDIA GeForce ...</td>\n",
       "      <td>Body : 363 x 255 x 23.9 mm dimension &amp; 2.4 kg ...</td>\n",
       "      <td>Price : ₹ 188,990</td>\n",
       "    </tr>\n",
       "    <tr>\n",
       "      <th>5</th>\n",
       "      <td>6.MSI Delta 15 (A5EFK-083IN)</td>\n",
       "      <td>AMD 5th Gen Ryzen 9-5900HX | 3.3GHz Processor</td>\n",
       "      <td>15.6\" (1920 x 1080) Display</td>\n",
       "      <td>1 TB SSD/16 GBGB DDR4 Memory</td>\n",
       "      <td>Graphics Processor : 10 GB DDR6 AMD Radeon RX ...</td>\n",
       "      <td>Body : 357 x 247 x 19 mm dimension &amp; 1.9 kg we...</td>\n",
       "      <td>Price : ₹ 124,990</td>\n",
       "    </tr>\n",
       "    <tr>\n",
       "      <th>6</th>\n",
       "      <td>7.Omen By HP (16-C0141AX)</td>\n",
       "      <td>AMD Ryzen™ 9 5900HX | 3.3 GHz Processor</td>\n",
       "      <td>16.1\" (2560 x 1440) Display</td>\n",
       "      <td>1 TB NVMe/16 GB DDR4 Memory</td>\n",
       "      <td>Graphics Processor : 8 GB GDDR6 AMD Radeon™ RX...</td>\n",
       "      <td>Body : 36.92 x 24.8 x 2.3 mm dimension &amp; 2.3 k...</td>\n",
       "      <td>Price : ₹ 169,990</td>\n",
       "    </tr>\n",
       "    <tr>\n",
       "      <th>7</th>\n",
       "      <td>8.Lenovo Legion 5i Pro (82RF00MGIN)</td>\n",
       "      <td>12th Gen Intel Core i7-12700H | 2.3 GHz Processor</td>\n",
       "      <td>16\" (2560 x 1600) Display</td>\n",
       "      <td>1 TB SSD/16 GB DDR5 Memory</td>\n",
       "      <td>Graphics Processor : 6 GB DDR6 NVIDIA GeForce ...</td>\n",
       "      <td>Body : 360 x 264 x 20 mm dimension &amp; 2.49 kg w...</td>\n",
       "      <td>Price : ₹ 174,000</td>\n",
       "    </tr>\n",
       "    <tr>\n",
       "      <th>8</th>\n",
       "      <td>9.Alienware M15 R5 Ryzen Edition Icc-C780001win</td>\n",
       "      <td>AMD Ryzen R7-5800H | 4.40 GHz Processor</td>\n",
       "      <td>15.6\" (1920 x 1080) Display</td>\n",
       "      <td>512 GB SSD/16 GB DDR4 Memory</td>\n",
       "      <td>Graphics Processor : 6 GB DDR6 NVIDIA GeForce ...</td>\n",
       "      <td>Body : 356.2 x 272.5 x 22.85 mm dimension &amp; 2....</td>\n",
       "      <td>Price : ₹ 131,990</td>\n",
       "    </tr>\n",
       "  </tbody>\n",
       "</table>\n",
       "</div>"
      ],
      "text/plain": [
       "                                             Brand  \\\n",
       "0                           1.MSI Titan GT77-12UHS   \n",
       "1                               2.Alienware X17 R2   \n",
       "2          3.Acer Predator Triton 500 SE PT516-52s   \n",
       "3                        4.Omen By HP (16-B1371TX)   \n",
       "4              5.Acer Predator Helios 300 AN515-45   \n",
       "5                     6.MSI Delta 15 (A5EFK-083IN)   \n",
       "6                        7.Omen By HP (16-C0141AX)   \n",
       "7              8.Lenovo Legion 5i Pro (82RF00MGIN)   \n",
       "8  9.Alienware M15 R5 Ryzen Edition Icc-C780001win   \n",
       "\n",
       "                                           PROCESSOR  \\\n",
       "0      12th Gen Intel Core i9-12900HX | NA Processor   \n",
       "1    12th Gen Intel Core i9-12900H | 5 GHz Processor   \n",
       "2  12th Gen Intel Core i7-12700H | 3.5 GHz Processor   \n",
       "3  12th Gen Intel Core i7-12700H | 4.7 GHz Processor   \n",
       "4                  AMD Ryzen 9-5900HX | NA Processor   \n",
       "5      AMD 5th Gen Ryzen 9-5900HX | 3.3GHz Processor   \n",
       "6            AMD Ryzen™ 9 5900HX | 3.3 GHz Processor   \n",
       "7  12th Gen Intel Core i7-12700H | 2.3 GHz Processor   \n",
       "8            AMD Ryzen R7-5800H | 4.40 GHz Processor   \n",
       "\n",
       "                       DISPLAY                        MEMORY  \\\n",
       "0  17.3\" (3840 x 2160) Display    2 TB SSD/64 GB DDR5 Memory   \n",
       "1  17.3\" (1920 x 1080) Display    1 TB SSD/32 GB DDR5 Memory   \n",
       "2    16\" (2560 x 1600) Display    2 TB SSD/32 GB DDR5 Memory   \n",
       "3  16.1\" (2560 x 1440) Display     1 TB SSD/8 GB DDR5 Memory   \n",
       "4  15.6\" (2560 x 1440) Display  512 GB SSD/16 GB DDR4 Memory   \n",
       "5  15.6\" (1920 x 1080) Display  1 TB SSD/16 GBGB DDR4 Memory   \n",
       "6  16.1\" (2560 x 1440) Display   1 TB NVMe/16 GB DDR4 Memory   \n",
       "7    16\" (2560 x 1600) Display    1 TB SSD/16 GB DDR5 Memory   \n",
       "8  15.6\" (1920 x 1080) Display  512 GB SSD/16 GB DDR4 Memory   \n",
       "\n",
       "                                  Graphics_Processor  \\\n",
       "0  Graphics Processor : 16 GB DDR6 NVIDIA GeForce...   \n",
       "1  Graphics Processor : 16 GB DDR6 NVIDIA GEFORCE...   \n",
       "2  Graphics Processor : 8 GB DDR6 NVIDIA GeForce ...   \n",
       "3  Graphics Processor : 8 GB GDDR6 NVIDIA GeForce...   \n",
       "4  Graphics Processor : 8 GB DDR6 NVIDIA GeForce ...   \n",
       "5  Graphics Processor : 10 GB DDR6 AMD Radeon RX ...   \n",
       "6  Graphics Processor : 8 GB GDDR6 AMD Radeon™ RX...   \n",
       "7  Graphics Processor : 6 GB DDR6 NVIDIA GeForce ...   \n",
       "8  Graphics Processor : 6 GB DDR6 NVIDIA GeForce ...   \n",
       "\n",
       "                                                BODY              PRICE  \n",
       "0  Body : 397 x 330 x 23 mm dimension & 3.3 kg we...  Price : ₹ 389,990  \n",
       "1  Body : 299 x 359 x 21 mm dimension & 2.96 kg w...  Price : ₹ 229,990  \n",
       "2  Body : 262 x 359 x 20 mm dimension & 2.4 kg we...  Price : ₹ 176,490  \n",
       "3  Body : 369 x 248 x 23 mm dimension & 2.32 kg w...  Price : ₹ 172,999  \n",
       "4  Body : 363 x 255 x 23.9 mm dimension & 2.4 kg ...  Price : ₹ 188,990  \n",
       "5  Body : 357 x 247 x 19 mm dimension & 1.9 kg we...  Price : ₹ 124,990  \n",
       "6  Body : 36.92 x 24.8 x 2.3 mm dimension & 2.3 k...  Price : ₹ 169,990  \n",
       "7  Body : 360 x 264 x 20 mm dimension & 2.49 kg w...  Price : ₹ 174,000  \n",
       "8  Body : 356.2 x 272.5 x 22.85 mm dimension & 2....  Price : ₹ 131,990  "
      ]
     },
     "execution_count": 160,
     "metadata": {},
     "output_type": "execute_result"
    }
   ],
   "source": [
    "df=pd.DataFrame({'Brand':Brand_name[:9],'PROCESSOR':Processor[:9],'DISPLAY':Display[:9],'MEMORY':Memory[:9],'Graphics_Processor':Graphics_Proc[:9],'BODY':Body[:9],'PRICE':Price[:9]})\n",
    "df"
   ]
  },
  {
   "cell_type": "markdown",
   "id": "c146f313",
   "metadata": {},
   "source": [
    "# Q8"
   ]
  },
  {
   "cell_type": "code",
   "execution_count": 243,
   "id": "83849387",
   "metadata": {},
   "outputs": [],
   "source": [
    "driver.get(\"https://www.forbes.com/billionaires/\")"
   ]
  },
  {
   "cell_type": "code",
   "execution_count": 244,
   "id": "f3ccce39",
   "metadata": {},
   "outputs": [],
   "source": [
    "Rank=[]\n",
    "Name=[]\n",
    "Net_Worth=[]\n",
    "Age=[]\n",
    "Citi=[]\n",
    "Source=[]\n",
    "Ind=[]"
   ]
  },
  {
   "cell_type": "code",
   "execution_count": 245,
   "id": "9edb2e17",
   "metadata": {},
   "outputs": [],
   "source": [
    "Nam_tags=driver.find_elements(By.XPATH,\"//div[@class='personName']\")\n",
    "for i in Nam_tags[0:200]:\n",
    "    Nam1=i.text\n",
    "    Name.append(Nam1)\n",
    "\n",
    "Ran_tags=driver.find_elements(By.XPATH,\"//div[@class='rank']\")\n",
    "for i in Ran_tags[0:200]:\n",
    "    Ran1=i.text\n",
    "    Rank.append(Ran1)\n",
    "    \n",
    "NW_tags=driver.find_elements(By.XPATH,\"//div[@class='netWorth']\")\n",
    "for i in NW_tags[0:200]:\n",
    "    NW1=i.text\n",
    "    Net_Worth.append(NW1)\n",
    "    \n",
    "AG_tags=driver.find_elements(By.XPATH,\"//div[@class='age']\")\n",
    "for i in AG_tags[0:200]:\n",
    "    AG1=i.text\n",
    "    Age.append(AG1)\n",
    "    \n",
    "CT_tags=driver.find_elements(By.XPATH,\"//div[@class='countryOfCitizenship']\")\n",
    "for i in CT_tags[0:200]:\n",
    "    CT1=i.text\n",
    "    Citi.append(CT1)\n",
    "    \n",
    "SC_tags=driver.find_elements(By.XPATH,\"//div[@class='source']\")\n",
    "for i in SC_tags[0:200]:\n",
    "    SC1=i.text\n",
    "    Source.append(SC1)\n",
    "    \n",
    "ID_tags=driver.find_elements(By.XPATH,\"//div[@class='category']\")\n",
    "for i in ID_tags[0:200]:\n",
    "    ID1=i.text\n",
    "    Ind.append(ID1)"
   ]
  },
  {
   "cell_type": "code",
   "execution_count": 246,
   "id": "137f9b6c",
   "metadata": {},
   "outputs": [
    {
     "data": {
      "text/html": [
       "<div>\n",
       "<style scoped>\n",
       "    .dataframe tbody tr th:only-of-type {\n",
       "        vertical-align: middle;\n",
       "    }\n",
       "\n",
       "    .dataframe tbody tr th {\n",
       "        vertical-align: top;\n",
       "    }\n",
       "\n",
       "    .dataframe thead th {\n",
       "        text-align: right;\n",
       "    }\n",
       "</style>\n",
       "<table border=\"1\" class=\"dataframe\">\n",
       "  <thead>\n",
       "    <tr style=\"text-align: right;\">\n",
       "      <th></th>\n",
       "      <th>RANK</th>\n",
       "      <th>NAME</th>\n",
       "      <th>NET_WORTH</th>\n",
       "      <th>AGE</th>\n",
       "      <th>Citizenship</th>\n",
       "      <th>SOURCE</th>\n",
       "      <th>Industry</th>\n",
       "    </tr>\n",
       "  </thead>\n",
       "  <tbody>\n",
       "    <tr>\n",
       "      <th>0</th>\n",
       "      <td>1.</td>\n",
       "      <td>Elon Musk</td>\n",
       "      <td>$219 B</td>\n",
       "      <td>50</td>\n",
       "      <td>United States</td>\n",
       "      <td>Tesla, SpaceX</td>\n",
       "      <td>Automotive</td>\n",
       "    </tr>\n",
       "    <tr>\n",
       "      <th>1</th>\n",
       "      <td>2.</td>\n",
       "      <td>Jeff Bezos</td>\n",
       "      <td>$171 B</td>\n",
       "      <td>58</td>\n",
       "      <td>United States</td>\n",
       "      <td>Amazon</td>\n",
       "      <td>Technology</td>\n",
       "    </tr>\n",
       "    <tr>\n",
       "      <th>2</th>\n",
       "      <td>3.</td>\n",
       "      <td>Bernard Arnault &amp; family</td>\n",
       "      <td>$158 B</td>\n",
       "      <td>73</td>\n",
       "      <td>France</td>\n",
       "      <td>LVMH</td>\n",
       "      <td>Fashion &amp; Retail</td>\n",
       "    </tr>\n",
       "    <tr>\n",
       "      <th>3</th>\n",
       "      <td>4.</td>\n",
       "      <td>Bill Gates</td>\n",
       "      <td>$129 B</td>\n",
       "      <td>66</td>\n",
       "      <td>United States</td>\n",
       "      <td>Microsoft</td>\n",
       "      <td>Technology</td>\n",
       "    </tr>\n",
       "    <tr>\n",
       "      <th>4</th>\n",
       "      <td>5.</td>\n",
       "      <td>Warren Buffett</td>\n",
       "      <td>$118 B</td>\n",
       "      <td>91</td>\n",
       "      <td>United States</td>\n",
       "      <td>Berkshire Hathaway</td>\n",
       "      <td>Finance &amp; Investments</td>\n",
       "    </tr>\n",
       "    <tr>\n",
       "      <th>...</th>\n",
       "      <td>...</td>\n",
       "      <td>...</td>\n",
       "      <td>...</td>\n",
       "      <td>...</td>\n",
       "      <td>...</td>\n",
       "      <td>...</td>\n",
       "      <td>...</td>\n",
       "    </tr>\n",
       "    <tr>\n",
       "      <th>193</th>\n",
       "      <td>192.</td>\n",
       "      <td>Stefano Pessina</td>\n",
       "      <td>$10.3 B</td>\n",
       "      <td>80</td>\n",
       "      <td>Monaco</td>\n",
       "      <td>drugstores</td>\n",
       "      <td>Fashion &amp; Retail</td>\n",
       "    </tr>\n",
       "    <tr>\n",
       "      <th>194</th>\n",
       "      <td>192.</td>\n",
       "      <td>Mikhail Prokhorov</td>\n",
       "      <td>$10.3 B</td>\n",
       "      <td>56</td>\n",
       "      <td>Russia</td>\n",
       "      <td>investments</td>\n",
       "      <td>Finance &amp; Investments</td>\n",
       "    </tr>\n",
       "    <tr>\n",
       "      <th>195</th>\n",
       "      <td>192.</td>\n",
       "      <td>Marcel Herrmann Telles</td>\n",
       "      <td>$10.3 B</td>\n",
       "      <td>72</td>\n",
       "      <td>Brazil</td>\n",
       "      <td>beer</td>\n",
       "      <td>Food &amp; Beverage</td>\n",
       "    </tr>\n",
       "    <tr>\n",
       "      <th>196</th>\n",
       "      <td>197.</td>\n",
       "      <td>Leon Black</td>\n",
       "      <td>$10 B</td>\n",
       "      <td>70</td>\n",
       "      <td>United States</td>\n",
       "      <td>private equity</td>\n",
       "      <td>Finance &amp; Investments</td>\n",
       "    </tr>\n",
       "    <tr>\n",
       "      <th>197</th>\n",
       "      <td>197.</td>\n",
       "      <td>Joe Gebbia</td>\n",
       "      <td>$10 B</td>\n",
       "      <td>40</td>\n",
       "      <td>United States</td>\n",
       "      <td>Airbnb</td>\n",
       "      <td>Technology</td>\n",
       "    </tr>\n",
       "  </tbody>\n",
       "</table>\n",
       "<p>198 rows × 7 columns</p>\n",
       "</div>"
      ],
      "text/plain": [
       "     RANK                      NAME NET_WORTH AGE    Citizenship  \\\n",
       "0      1.                 Elon Musk    $219 B  50  United States   \n",
       "1      2.                Jeff Bezos    $171 B  58  United States   \n",
       "2      3.  Bernard Arnault & family    $158 B  73         France   \n",
       "3      4.                Bill Gates    $129 B  66  United States   \n",
       "4      5.            Warren Buffett    $118 B  91  United States   \n",
       "..    ...                       ...       ...  ..            ...   \n",
       "193  192.           Stefano Pessina   $10.3 B  80         Monaco   \n",
       "194  192.         Mikhail Prokhorov   $10.3 B  56         Russia   \n",
       "195  192.    Marcel Herrmann Telles   $10.3 B  72         Brazil   \n",
       "196  197.                Leon Black     $10 B  70  United States   \n",
       "197  197.                Joe Gebbia     $10 B  40  United States   \n",
       "\n",
       "                 SOURCE               Industry  \n",
       "0         Tesla, SpaceX             Automotive  \n",
       "1                Amazon             Technology  \n",
       "2                  LVMH       Fashion & Retail  \n",
       "3             Microsoft             Technology  \n",
       "4    Berkshire Hathaway  Finance & Investments  \n",
       "..                  ...                    ...  \n",
       "193          drugstores       Fashion & Retail  \n",
       "194         investments  Finance & Investments  \n",
       "195                beer        Food & Beverage  \n",
       "196      private equity  Finance & Investments  \n",
       "197              Airbnb             Technology  \n",
       "\n",
       "[198 rows x 7 columns]"
      ]
     },
     "execution_count": 246,
     "metadata": {},
     "output_type": "execute_result"
    }
   ],
   "source": [
    "df1=pd.DataFrame({'RANK':Rank[:198],'NAME':Name[:198],'NET_WORTH':Net_Worth[:198],'AGE':Age[:198],'Citizenship':Citi[:198],'SOURCE':Source[:198],'Industry':Ind[:198]})\n",
    "df1"
   ]
  },
  {
   "cell_type": "markdown",
   "id": "b415a23b",
   "metadata": {},
   "source": [
    "# Q9"
   ]
  },
  {
   "cell_type": "code",
   "execution_count": null,
   "id": "2d84b1e2",
   "metadata": {},
   "outputs": [],
   "source": [
    "tried different codes but none worked for me\n",
    "i would really appreciate if someone can mentor me in this."
   ]
  },
  {
   "cell_type": "code",
   "execution_count": 3,
   "id": "fa2ea90a",
   "metadata": {},
   "outputs": [
    {
     "name": "stdout",
     "output_type": "stream",
     "text": [
      "Requirement already satisfied: requests_html in c:\\users\\user\\anaconda3\\lib\\site-packages (0.10.0)\n",
      "Requirement already satisfied: bs4 in c:\\users\\user\\anaconda3\\lib\\site-packages (0.0.1)\n",
      "Requirement already satisfied: fake-useragent in c:\\users\\user\\anaconda3\\lib\\site-packages (from requests_html) (1.1.1)\n",
      "Requirement already satisfied: pyquery in c:\\users\\user\\anaconda3\\lib\\site-packages (from requests_html) (1.4.3)\n",
      "Requirement already satisfied: w3lib in c:\\users\\user\\anaconda3\\lib\\site-packages (from requests_html) (1.21.0)\n",
      "Requirement already satisfied: pyppeteer>=0.0.14 in c:\\users\\user\\anaconda3\\lib\\site-packages (from requests_html) (1.0.2)\n",
      "Requirement already satisfied: requests in c:\\users\\user\\anaconda3\\lib\\site-packages (from requests_html) (2.28.1)\n",
      "Requirement already satisfied: parse in c:\\users\\user\\anaconda3\\lib\\site-packages (from requests_html) (1.19.0)\n",
      "Requirement already satisfied: beautifulsoup4 in c:\\users\\user\\anaconda3\\lib\\site-packages (from bs4) (4.11.1)\n",
      "Requirement already satisfied: appdirs<2.0.0,>=1.4.3 in c:\\users\\user\\anaconda3\\lib\\site-packages (from pyppeteer>=0.0.14->requests_html) (1.4.4)\n",
      "Requirement already satisfied: importlib-metadata>=1.4 in c:\\users\\user\\anaconda3\\lib\\site-packages (from pyppeteer>=0.0.14->requests_html) (4.11.3)\n",
      "Requirement already satisfied: urllib3<2.0.0,>=1.25.8 in c:\\users\\user\\anaconda3\\lib\\site-packages (from pyppeteer>=0.0.14->requests_html) (1.26.11)\n",
      "Requirement already satisfied: certifi>=2021 in c:\\users\\user\\anaconda3\\lib\\site-packages (from pyppeteer>=0.0.14->requests_html) (2022.9.14)\n",
      "Requirement already satisfied: websockets<11.0,>=10.0 in c:\\users\\user\\anaconda3\\lib\\site-packages (from pyppeteer>=0.0.14->requests_html) (10.4)\n",
      "Requirement already satisfied: pyee<9.0.0,>=8.1.0 in c:\\users\\user\\anaconda3\\lib\\site-packages (from pyppeteer>=0.0.14->requests_html) (8.2.2)\n",
      "Requirement already satisfied: tqdm<5.0.0,>=4.42.1 in c:\\users\\user\\anaconda3\\lib\\site-packages (from pyppeteer>=0.0.14->requests_html) (4.64.1)\n",
      "Requirement already satisfied: soupsieve>1.2 in c:\\users\\user\\anaconda3\\lib\\site-packages (from beautifulsoup4->bs4) (2.3.1)\n",
      "Requirement already satisfied: importlib-resources>=5.0 in c:\\users\\user\\anaconda3\\lib\\site-packages (from fake-useragent->requests_html) (5.10.1)\n",
      "Requirement already satisfied: cssselect>0.7.9 in c:\\users\\user\\anaconda3\\lib\\site-packages (from pyquery->requests_html) (1.1.0)\n",
      "Requirement already satisfied: lxml>=2.1 in c:\\users\\user\\anaconda3\\lib\\site-packages (from pyquery->requests_html) (4.9.1)\n",
      "Requirement already satisfied: idna<4,>=2.5 in c:\\users\\user\\anaconda3\\lib\\site-packages (from requests->requests_html) (3.3)\n",
      "Requirement already satisfied: charset-normalizer<3,>=2 in c:\\users\\user\\anaconda3\\lib\\site-packages (from requests->requests_html) (2.0.4)\n",
      "Requirement already satisfied: six>=1.4.1 in c:\\users\\user\\anaconda3\\lib\\site-packages (from w3lib->requests_html) (1.16.0)\n",
      "Requirement already satisfied: zipp>=0.5 in c:\\users\\user\\anaconda3\\lib\\site-packages (from importlib-metadata>=1.4->pyppeteer>=0.0.14->requests_html) (3.8.0)\n",
      "Requirement already satisfied: colorama in c:\\users\\user\\anaconda3\\lib\\site-packages (from tqdm<5.0.0,>=4.42.1->pyppeteer>=0.0.14->requests_html) (0.4.5)\n"
     ]
    }
   ],
   "source": [
    "!pip install requests_html bs4"
   ]
  },
  {
   "cell_type": "code",
   "execution_count": 4,
   "id": "253329ac",
   "metadata": {},
   "outputs": [],
   "source": [
    "from requests_html import HTMLSession"
   ]
  },
  {
   "cell_type": "code",
   "execution_count": 5,
   "id": "6c5dd51e",
   "metadata": {},
   "outputs": [],
   "source": [
    "video_url = \"https://www.youtube.com/watch?v=jNQXAC9IVRw\"\n",
    "session = HTMLSession()\n",
    "response = session.get(video_url)\n",
    "soup = BeautifulSoup(response.html.html, \"html.parser\")"
   ]
  },
  {
   "cell_type": "code",
   "execution_count": 6,
   "id": "f7a1750c",
   "metadata": {},
   "outputs": [
    {
     "data": {
      "text/plain": [
       "[<meta content=\"AlgsH67ctYlMR3JYAxEnGfvsoFo41AMqAg6wRHHXOpWAfD54ZCfTPBclxnFT4Gc8IUX4pq6Xfo0esDuOt+WH3wIAAABteyJvcmlnaW4iOiJodHRwczovL3lvdXR1YmUuY29tOjQ0MyIsImZlYXR1cmUiOiJQcml2YWN5U2FuZGJveEFkc0FQSXMiLCJleHBpcnkiOjE2ODA2NTI3OTksImlzU3ViZG9tYWluIjp0cnVlfQ==\" http-equiv=\"origin-trial\"/>,\n",
       " <meta content=\"rgba(255, 255, 255, 0.98)\" name=\"theme-color\"/>,\n",
       " <meta content=\"Me at the zoo\" name=\"title\"/>,\n",
       " <meta content=\"\" name=\"description\"/>,\n",
       " <meta content=\"me at the zoo, jawed karim, first youtube video\" name=\"keywords\"/>,\n",
       " <meta content=\"YouTube\" property=\"og:site_name\"/>,\n",
       " <meta content=\"https://www.youtube.com/watch?v=jNQXAC9IVRw\" property=\"og:url\"/>,\n",
       " <meta content=\"Me at the zoo\" property=\"og:title\"/>,\n",
       " <meta content=\"https://i.ytimg.com/vi/jNQXAC9IVRw/hqdefault.jpg?sqp=-oaymwEmCOADEOgC8quKqQMa8AEB-AG-AoAC8AGKAgwIABABGGUgZShlMA8=&amp;rs=AOn4CLAr8FJO_tyImw0fE_qbdh1wSHZFmg\" property=\"og:image\"/>,\n",
       " <meta content=\"480\" property=\"og:image:width\"/>,\n",
       " <meta content=\"360\" property=\"og:image:height\"/>,\n",
       " <meta content=\"\" property=\"og:description\"/>,\n",
       " <meta content=\"544007664\" property=\"al:ios:app_store_id\"/>,\n",
       " <meta content=\"YouTube\" property=\"al:ios:app_name\"/>,\n",
       " <meta content=\"vnd.youtube://www.youtube.com/watch?v=jNQXAC9IVRw&amp;feature=applinks\" property=\"al:ios:url\"/>,\n",
       " <meta content=\"vnd.youtube://www.youtube.com/watch?v=jNQXAC9IVRw&amp;feature=applinks\" property=\"al:android:url\"/>,\n",
       " <meta content=\"http://www.youtube.com/watch?v=jNQXAC9IVRw&amp;feature=applinks\" property=\"al:web:url\"/>,\n",
       " <meta content=\"video.other\" property=\"og:type\"/>,\n",
       " <meta content=\"https://www.youtube.com/embed/jNQXAC9IVRw\" property=\"og:video:url\"/>,\n",
       " <meta content=\"https://www.youtube.com/embed/jNQXAC9IVRw\" property=\"og:video:secure_url\"/>,\n",
       " <meta content=\"text/html\" property=\"og:video:type\"/>,\n",
       " <meta content=\"480\" property=\"og:video:width\"/>,\n",
       " <meta content=\"360\" property=\"og:video:height\"/>,\n",
       " <meta content=\"YouTube\" property=\"al:android:app_name\"/>,\n",
       " <meta content=\"com.google.android.youtube\" property=\"al:android:package\"/>,\n",
       " <meta content=\"me at the zoo\" property=\"og:video:tag\"/>,\n",
       " <meta content=\"jawed karim\" property=\"og:video:tag\"/>,\n",
       " <meta content=\"first youtube video\" property=\"og:video:tag\"/>,\n",
       " <meta content=\"87741124305\" property=\"fb:app_id\"/>,\n",
       " <meta content=\"player\" name=\"twitter:card\"/>,\n",
       " <meta content=\"@youtube\" name=\"twitter:site\"/>,\n",
       " <meta content=\"https://www.youtube.com/watch?v=jNQXAC9IVRw\" name=\"twitter:url\"/>,\n",
       " <meta content=\"Me at the zoo\" name=\"twitter:title\"/>,\n",
       " <meta content=\"\" name=\"twitter:description\"/>,\n",
       " <meta content=\"https://i.ytimg.com/vi/jNQXAC9IVRw/hqdefault.jpg?sqp=-oaymwEmCOADEOgC8quKqQMa8AEB-AG-AoAC8AGKAgwIABABGGUgZShlMA8=&amp;rs=AOn4CLAr8FJO_tyImw0fE_qbdh1wSHZFmg\" name=\"twitter:image\"/>,\n",
       " <meta content=\"YouTube\" name=\"twitter:app:name:iphone\"/>,\n",
       " <meta content=\"544007664\" name=\"twitter:app:id:iphone\"/>,\n",
       " <meta content=\"YouTube\" name=\"twitter:app:name:ipad\"/>,\n",
       " <meta content=\"544007664\" name=\"twitter:app:id:ipad\"/>,\n",
       " <meta content=\"vnd.youtube://www.youtube.com/watch?v=jNQXAC9IVRw&amp;feature=applinks\" name=\"twitter:app:url:iphone\"/>,\n",
       " <meta content=\"vnd.youtube://www.youtube.com/watch?v=jNQXAC9IVRw&amp;feature=applinks\" name=\"twitter:app:url:ipad\"/>,\n",
       " <meta content=\"YouTube\" name=\"twitter:app:name:googleplay\"/>,\n",
       " <meta content=\"com.google.android.youtube\" name=\"twitter:app:id:googleplay\"/>,\n",
       " <meta content=\"https://www.youtube.com/watch?v=jNQXAC9IVRw\" name=\"twitter:app:url:googleplay\"/>,\n",
       " <meta content=\"https://www.youtube.com/embed/jNQXAC9IVRw\" name=\"twitter:player\"/>,\n",
       " <meta content=\"480\" name=\"twitter:player:width\"/>,\n",
       " <meta content=\"360\" name=\"twitter:player:height\"/>,\n",
       " <meta content=\"Me at the zoo\" itemprop=\"name\"/>,\n",
       " <meta content=\"\" itemprop=\"description\"/>,\n",
       " <meta content=\"False\" itemprop=\"paid\"/>,\n",
       " <meta content=\"UC4QobU6STFB0P71PMvOGN5A\" itemprop=\"channelId\"/>,\n",
       " <meta content=\"jNQXAC9IVRw\" itemprop=\"videoId\"/>,\n",
       " <meta content=\"PT0M19S\" itemprop=\"duration\"/>,\n",
       " <meta content=\"False\" itemprop=\"unlisted\"/>,\n",
       " <meta content=\"480\" itemprop=\"width\"/>,\n",
       " <meta content=\"360\" itemprop=\"height\"/>,\n",
       " <meta content=\"HTML5 Flash\" itemprop=\"playerType\"/>,\n",
       " <meta content=\"480\" itemprop=\"width\"/>,\n",
       " <meta content=\"360\" itemprop=\"height\"/>,\n",
       " <meta content=\"true\" itemprop=\"isFamilyFriendly\"/>,\n",
       " <meta content=\"AD,AE,AF,AG,AI,AL,AM,AO,AQ,AR,AS,AT,AU,AW,AX,AZ,BA,BB,BD,BE,BF,BG,BH,BI,BJ,BL,BM,BN,BO,BQ,BR,BS,BT,BV,BW,BY,BZ,CA,CC,CD,CF,CG,CH,CI,CK,CL,CM,CN,CO,CR,CU,CV,CW,CX,CY,CZ,DE,DJ,DK,DM,DO,DZ,EC,EE,EG,EH,ER,ES,ET,FI,FJ,FK,FM,FO,FR,GA,GB,GD,GE,GF,GG,GH,GI,GL,GM,GN,GP,GQ,GR,GS,GT,GU,GW,GY,HK,HM,HN,HR,HT,HU,ID,IE,IL,IM,IN,IO,IQ,IR,IS,IT,JE,JM,JO,JP,KE,KG,KH,KI,KM,KN,KP,KR,KW,KY,KZ,LA,LB,LC,LI,LK,LR,LS,LT,LU,LV,LY,MA,MC,MD,ME,MF,MG,MH,MK,ML,MM,MN,MO,MP,MQ,MR,MS,MT,MU,MV,MW,MX,MY,MZ,NA,NC,NE,NF,NG,NI,NL,NO,NP,NR,NU,NZ,OM,PA,PE,PF,PG,PH,PK,PL,PM,PN,PR,PS,PT,PW,PY,QA,RE,RO,RS,RU,RW,SA,SB,SC,SD,SE,SG,SH,SI,SJ,SK,SL,SM,SN,SO,SR,SS,ST,SV,SX,SY,SZ,TC,TD,TF,TG,TH,TJ,TK,TL,TM,TN,TO,TR,TT,TV,TW,TZ,UA,UG,UM,US,UY,UZ,VA,VC,VE,VG,VI,VN,VU,WF,WS,YE,YT,ZA,ZM,ZW\" itemprop=\"regionsAllowed\"/>,\n",
       " <meta content=\"250724612\" itemprop=\"interactionCount\"/>,\n",
       " <meta content=\"2005-04-23\" itemprop=\"datePublished\"/>,\n",
       " <meta content=\"2005-04-23\" itemprop=\"uploadDate\"/>,\n",
       " <meta content=\"Film &amp; Animation\" itemprop=\"genre\"/>]"
      ]
     },
     "execution_count": 6,
     "metadata": {},
     "output_type": "execute_result"
    }
   ],
   "source": [
    "soup.find_all(\"meta\")"
   ]
  },
  {
   "cell_type": "code",
   "execution_count": 7,
   "id": "993d86b2",
   "metadata": {},
   "outputs": [
    {
     "data": {
      "text/plain": [
       "'Me at the zoo'"
      ]
     },
     "execution_count": 7,
     "metadata": {},
     "output_type": "execute_result"
    }
   ],
   "source": [
    "soup.find(\"meta\", itemprop=\"name\")[\"content\"]"
   ]
  },
  {
   "cell_type": "code",
   "execution_count": 8,
   "id": "3e2f39b3",
   "metadata": {},
   "outputs": [
    {
     "data": {
      "text/plain": [
       "'250724612'"
      ]
     },
     "execution_count": 8,
     "metadata": {},
     "output_type": "execute_result"
    }
   ],
   "source": [
    "soup.find(\"meta\", itemprop=\"interactionCount\")['content']"
   ]
  },
  {
   "cell_type": "code",
   "execution_count": 9,
   "id": "0c86d763",
   "metadata": {},
   "outputs": [],
   "source": [
    "def get_video_info(url):\n",
    "    response = session.get(url)\n",
    "    response.html.render(sleep=1)\n",
    "    soup = bs(response.html.html, \"html.parser\")\n",
    "    result = {}"
   ]
  },
  {
   "cell_type": "code",
   "execution_count": 10,
   "id": "bdd04ed1",
   "metadata": {},
   "outputs": [],
   "source": [
    "result={}"
   ]
  },
  {
   "cell_type": "code",
   "execution_count": 11,
   "id": "93b8389c",
   "metadata": {},
   "outputs": [],
   "source": [
    "result[\"title\"] = soup.find(\"meta\", itemprop=\"name\")['content']"
   ]
  },
  {
   "cell_type": "code",
   "execution_count": 12,
   "id": "8722e23f",
   "metadata": {},
   "outputs": [
    {
     "data": {
      "text/plain": [
       "{'title': 'Me at the zoo'}"
      ]
     },
     "execution_count": 12,
     "metadata": {},
     "output_type": "execute_result"
    }
   ],
   "source": [
    "result"
   ]
  },
  {
   "cell_type": "code",
   "execution_count": 13,
   "id": "7e4d897d",
   "metadata": {},
   "outputs": [],
   "source": [
    "result[\"views\"] = result[\"views\"]=soup.find(\"meta\", itemprop=\"interactionCount\")['content']"
   ]
  },
  {
   "cell_type": "code",
   "execution_count": 14,
   "id": "2d350622",
   "metadata": {},
   "outputs": [
    {
     "data": {
      "text/plain": [
       "{'title': 'Me at the zoo', 'views': '250724612'}"
      ]
     },
     "execution_count": 14,
     "metadata": {},
     "output_type": "execute_result"
    }
   ],
   "source": [
    "result"
   ]
  },
  {
   "cell_type": "code",
   "execution_count": 15,
   "id": "58313770",
   "metadata": {},
   "outputs": [],
   "source": [
    "result[\"description\"] = soup.find(\"meta\", itemprop=\"description\")['content']"
   ]
  },
  {
   "cell_type": "code",
   "execution_count": 16,
   "id": "2f55f797",
   "metadata": {},
   "outputs": [
    {
     "data": {
      "text/plain": [
       "{'title': 'Me at the zoo', 'views': '250724612', 'description': ''}"
      ]
     },
     "execution_count": 16,
     "metadata": {},
     "output_type": "execute_result"
    }
   ],
   "source": [
    "result"
   ]
  },
  {
   "cell_type": "code",
   "execution_count": 17,
   "id": "1d81d6f9",
   "metadata": {},
   "outputs": [],
   "source": [
    "result[\"date_published\"] = soup.find(\"meta\", itemprop=\"datePublished\")['content']"
   ]
  },
  {
   "cell_type": "code",
   "execution_count": 18,
   "id": "d05f397a",
   "metadata": {},
   "outputs": [
    {
     "data": {
      "text/plain": [
       "{'title': 'Me at the zoo',\n",
       " 'views': '250724612',\n",
       " 'description': '',\n",
       " 'date_published': '2005-04-23'}"
      ]
     },
     "execution_count": 18,
     "metadata": {},
     "output_type": "execute_result"
    }
   ],
   "source": [
    "result"
   ]
  },
  {
   "cell_type": "code",
   "execution_count": 19,
   "id": "ec5e5e45",
   "metadata": {},
   "outputs": [],
   "source": [
    "result[\"Comments\"] = soup.find_all(\"yt-formatted-string\", {\"id\": \"content-text\"})"
   ]
  },
  {
   "cell_type": "code",
   "execution_count": 20,
   "id": "ff44f11d",
   "metadata": {},
   "outputs": [
    {
     "data": {
      "text/plain": [
       "{'title': 'Me at the zoo',\n",
       " 'views': '250724612',\n",
       " 'description': '',\n",
       " 'date_published': '2005-04-23',\n",
       " 'Comments': []}"
      ]
     },
     "execution_count": 20,
     "metadata": {},
     "output_type": "execute_result"
    }
   ],
   "source": [
    "result"
   ]
  },
  {
   "cell_type": "code",
   "execution_count": 71,
   "id": "17479e97",
   "metadata": {},
   "outputs": [
    {
     "data": {
      "text/plain": [
       "{'title': 'Me at the zoo',\n",
       " 'views': '250717540',\n",
       " 'description': '',\n",
       " 'date_published': '2005-04-23',\n",
       " 'Comments': None}"
      ]
     },
     "execution_count": 71,
     "metadata": {},
     "output_type": "execute_result"
    }
   ],
   "source": [
    "result"
   ]
  },
  {
   "cell_type": "code",
   "execution_count": 65,
   "id": "3f2f42d4",
   "metadata": {},
   "outputs": [
    {
     "ename": "TypeError",
     "evalue": "'NoneType' object is not subscriptable",
     "output_type": "error",
     "traceback": [
      "\u001b[1;31m---------------------------------------------------------------------------\u001b[0m",
      "\u001b[1;31mTypeError\u001b[0m                                 Traceback (most recent call last)",
      "\u001b[1;32m~\\AppData\\Local\\Temp\\ipykernel_5788\\3665908756.py\u001b[0m in \u001b[0;36m<module>\u001b[1;34m\u001b[0m\n\u001b[1;32m----> 1\u001b[1;33m \u001b[0mresult\u001b[0m\u001b[1;33m[\u001b[0m\u001b[1;34m\"Comments\"\u001b[0m\u001b[1;33m]\u001b[0m \u001b[1;33m=\u001b[0m \u001b[0msoup\u001b[0m\u001b[1;33m.\u001b[0m\u001b[0mfind\u001b[0m\u001b[1;33m(\u001b[0m\u001b[1;34m\"meta\"\u001b[0m\u001b[1;33m,\u001b[0m \u001b[0mitemprop\u001b[0m\u001b[1;33m=\u001b[0m\u001b[1;34m\"Comments\"\u001b[0m\u001b[1;33m)\u001b[0m\u001b[1;33m[\u001b[0m\u001b[1;34m'content'\u001b[0m\u001b[1;33m]\u001b[0m\u001b[1;33m\u001b[0m\u001b[1;33m\u001b[0m\u001b[0m\n\u001b[0m",
      "\u001b[1;31mTypeError\u001b[0m: 'NoneType' object is not subscriptable"
     ]
    }
   ],
   "source": [
    "result[\"Comments\"] = soup.find(\"meta\", itemprop=\"Comments\")['content']"
   ]
  },
  {
   "cell_type": "code",
   "execution_count": 21,
   "id": "663609aa",
   "metadata": {},
   "outputs": [],
   "source": [
    "import re"
   ]
  },
  {
   "cell_type": "code",
   "execution_count": 22,
   "id": "3f5a3ea1",
   "metadata": {},
   "outputs": [],
   "source": [
    "import json"
   ]
  },
  {
   "cell_type": "code",
   "execution_count": 30,
   "id": "c61c2cde",
   "metadata": {},
   "outputs": [],
   "source": [
    "from PyQt5.QtCore import * \n",
    "from PyQt5.QtGui import * \n",
    "from PyQt5.QtWidgets import * \n",
    "import sys"
   ]
  },
  {
   "cell_type": "code",
   "execution_count": 26,
   "id": "f5bf5ef0",
   "metadata": {},
   "outputs": [
    {
     "ename": "KeyError",
     "evalue": "'toggleButtonRenderer'",
     "output_type": "error",
     "traceback": [
      "\u001b[1;31m---------------------------------------------------------------------------\u001b[0m",
      "\u001b[1;31mKeyError\u001b[0m                                  Traceback (most recent call last)",
      "\u001b[1;32m~\\AppData\\Local\\Temp\\ipykernel_9808\\660465347.py\u001b[0m in \u001b[0;36m<module>\u001b[1;34m\u001b[0m\n\u001b[1;32m----> 1\u001b[1;33m \u001b[0mlikes_label\u001b[0m \u001b[1;33m=\u001b[0m \u001b[0mvideoPrimaryInfoRenderer\u001b[0m\u001b[1;33m[\u001b[0m\u001b[1;34m'videoActions'\u001b[0m\u001b[1;33m]\u001b[0m\u001b[1;33m[\u001b[0m\u001b[1;34m'menuRenderer'\u001b[0m\u001b[1;33m]\u001b[0m\u001b[1;33m[\u001b[0m\u001b[1;34m'topLevelButtons'\u001b[0m\u001b[1;33m]\u001b[0m\u001b[1;33m[\u001b[0m\u001b[1;36m0\u001b[0m\u001b[1;33m]\u001b[0m\u001b[1;33m[\u001b[0m\u001b[1;34m'toggleButtonRenderer'\u001b[0m\u001b[1;33m]\u001b[0m\u001b[1;33m[\u001b[0m\u001b[1;34m'defaultText'\u001b[0m\u001b[1;33m]\u001b[0m\u001b[1;33m[\u001b[0m\u001b[1;34m'accessibility'\u001b[0m\u001b[1;33m]\u001b[0m\u001b[1;33m[\u001b[0m\u001b[1;34m'accessibilityData'\u001b[0m\u001b[1;33m]\u001b[0m\u001b[1;33m[\u001b[0m\u001b[1;34m'label'\u001b[0m\u001b[1;33m]\u001b[0m\u001b[1;33m\u001b[0m\u001b[1;33m\u001b[0m\u001b[0m\n\u001b[0m\u001b[0;32m      2\u001b[0m \u001b[0mlikes_str\u001b[0m \u001b[1;33m=\u001b[0m \u001b[0mlikes_label\u001b[0m\u001b[1;33m.\u001b[0m\u001b[0msplit\u001b[0m\u001b[1;33m(\u001b[0m\u001b[1;34m' '\u001b[0m\u001b[1;33m)\u001b[0m\u001b[1;33m[\u001b[0m\u001b[1;36m0\u001b[0m\u001b[1;33m]\u001b[0m\u001b[1;33m.\u001b[0m\u001b[0mreplace\u001b[0m\u001b[1;33m(\u001b[0m\u001b[1;34m','\u001b[0m\u001b[1;33m,\u001b[0m\u001b[1;34m''\u001b[0m\u001b[1;33m)\u001b[0m\u001b[1;33m\u001b[0m\u001b[1;33m\u001b[0m\u001b[0m\n\u001b[0;32m      3\u001b[0m \u001b[0mresult\u001b[0m\u001b[1;33m[\u001b[0m\u001b[1;34m\"likes\"\u001b[0m\u001b[1;33m]\u001b[0m \u001b[1;33m=\u001b[0m \u001b[1;34m'0'\u001b[0m \u001b[1;32mif\u001b[0m \u001b[0mlikes_str\u001b[0m \u001b[1;33m==\u001b[0m \u001b[1;34m'No'\u001b[0m \u001b[1;32melse\u001b[0m \u001b[0mlikes_str\u001b[0m\u001b[1;33m\u001b[0m\u001b[1;33m\u001b[0m\u001b[0m\n",
      "\u001b[1;31mKeyError\u001b[0m: 'toggleButtonRenderer'"
     ]
    }
   ],
   "source": [
    "likes_label = videoPrimaryInfoRenderer['videoActions']['menuRenderer']['topLevelButtons'][0]['toggleButtonRenderer']['defaultText']['accessibility']['accessibilityData']['label']\n",
    "likes_str = likes_label.split(' ')[0].replace(',','')\n",
    "result[\"likes\"] = '0' if likes_str == 'No' else likes_str"
   ]
  },
  {
   "cell_type": "code",
   "execution_count": 78,
   "id": "41a786ac",
   "metadata": {},
   "outputs": [
    {
     "ename": "AttributeError",
     "evalue": "'tuple' object has no attribute 'group'",
     "output_type": "error",
     "traceback": [
      "\u001b[1;31m---------------------------------------------------------------------------\u001b[0m",
      "\u001b[1;31mAttributeError\u001b[0m                            Traceback (most recent call last)",
      "\u001b[1;32m~\\AppData\\Local\\Temp\\ipykernel_5788\\2131200159.py\u001b[0m in \u001b[0;36m<module>\u001b[1;34m\u001b[0m\n\u001b[1;32m----> 1\u001b[1;33m \u001b[0mdata\u001b[0m \u001b[1;33m=\u001b[0m \u001b[1;33m(\u001b[0m\u001b[1;34mr\"var ytInitialData = ({.*?});\"\u001b[0m\u001b[1;33m,\u001b[0m \u001b[0msoup\u001b[0m\u001b[1;33m.\u001b[0m\u001b[0mprettify\u001b[0m\u001b[1;33m(\u001b[0m\u001b[1;33m)\u001b[0m\u001b[1;33m)\u001b[0m\u001b[1;33m.\u001b[0m\u001b[0mgroup\u001b[0m\u001b[1;33m(\u001b[0m\u001b[1;36m1\u001b[0m\u001b[1;33m)\u001b[0m\u001b[1;33m\u001b[0m\u001b[1;33m\u001b[0m\u001b[0m\n\u001b[0m\u001b[0;32m      2\u001b[0m \u001b[0mdata_json\u001b[0m \u001b[1;33m=\u001b[0m \u001b[0mjson\u001b[0m\u001b[1;33m.\u001b[0m\u001b[0mloads\u001b[0m\u001b[1;33m(\u001b[0m\u001b[0mdata\u001b[0m\u001b[1;33m)\u001b[0m\u001b[1;33m\u001b[0m\u001b[1;33m\u001b[0m\u001b[0m\n\u001b[0;32m      3\u001b[0m \u001b[0mvideoPrimaryInfoRenderer\u001b[0m \u001b[1;33m=\u001b[0m \u001b[0mdata_json\u001b[0m\u001b[1;33m[\u001b[0m\u001b[1;34m'contents'\u001b[0m\u001b[1;33m]\u001b[0m\u001b[1;33m[\u001b[0m\u001b[1;34m'twoColumnWatchNextResults'\u001b[0m\u001b[1;33m]\u001b[0m\u001b[1;33m[\u001b[0m\u001b[1;34m'results'\u001b[0m\u001b[1;33m]\u001b[0m\u001b[1;33m[\u001b[0m\u001b[1;34m'results'\u001b[0m\u001b[1;33m]\u001b[0m\u001b[1;33m[\u001b[0m\u001b[1;34m'contents'\u001b[0m\u001b[1;33m]\u001b[0m\u001b[1;33m[\u001b[0m\u001b[1;36m0\u001b[0m\u001b[1;33m]\u001b[0m\u001b[1;33m[\u001b[0m\u001b[1;34m'videoPrimaryInfoRenderer'\u001b[0m\u001b[1;33m]\u001b[0m\u001b[1;33m\u001b[0m\u001b[1;33m\u001b[0m\u001b[0m\n\u001b[0;32m      4\u001b[0m \u001b[0mvideoSecondaryInfoRenderer\u001b[0m \u001b[1;33m=\u001b[0m \u001b[0mdata_json\u001b[0m\u001b[1;33m[\u001b[0m\u001b[1;34m'contents'\u001b[0m\u001b[1;33m]\u001b[0m\u001b[1;33m[\u001b[0m\u001b[1;34m'twoColumnWatchNextResults'\u001b[0m\u001b[1;33m]\u001b[0m\u001b[1;33m[\u001b[0m\u001b[1;34m'results'\u001b[0m\u001b[1;33m]\u001b[0m\u001b[1;33m[\u001b[0m\u001b[1;34m'results'\u001b[0m\u001b[1;33m]\u001b[0m\u001b[1;33m[\u001b[0m\u001b[1;34m'contents'\u001b[0m\u001b[1;33m]\u001b[0m\u001b[1;33m[\u001b[0m\u001b[1;36m1\u001b[0m\u001b[1;33m]\u001b[0m\u001b[1;33m[\u001b[0m\u001b[1;34m'videoSecondaryInfoRenderer'\u001b[0m\u001b[1;33m]\u001b[0m\u001b[1;33m\u001b[0m\u001b[1;33m\u001b[0m\u001b[0m\n",
      "\u001b[1;31mAttributeError\u001b[0m: 'tuple' object has no attribute 'group'"
     ]
    }
   ],
   "source": [
    "data = (r\"var ytInitialData = ({.*?});\", soup.prettify()).group(1)\n",
    "data_json = json.loads(data)\n",
    "videoPrimaryInfoRenderer = data_json['contents']['twoColumnWatchNextResults']['results']['results']['contents'][0]['videoPrimaryInfoRenderer']\n",
    "videoSecondaryInfoRenderer = data_json['contents']['twoColumnWatchNextResults']['results']['results']['contents'][1]['videoSecondaryInfoRenderer']"
   ]
  },
  {
   "cell_type": "code",
   "execution_count": 47,
   "id": "04516d57",
   "metadata": {},
   "outputs": [
    {
     "ename": "NameError",
     "evalue": "name 'result' is not defined",
     "output_type": "error",
     "traceback": [
      "\u001b[1;31m---------------------------------------------------------------------------\u001b[0m",
      "\u001b[1;31mNameError\u001b[0m                                 Traceback (most recent call last)",
      "\u001b[1;32m~\\AppData\\Local\\Temp\\ipykernel_5788\\1563146844.py\u001b[0m in \u001b[0;36m<module>\u001b[1;34m\u001b[0m\n\u001b[1;32m----> 1\u001b[1;33m \u001b[0mresult\u001b[0m\u001b[1;33m[\u001b[0m\u001b[1;34m\"date_published\"\u001b[0m\u001b[1;33m]\u001b[0m \u001b[1;33m=\u001b[0m \u001b[0msoup\u001b[0m\u001b[1;33m.\u001b[0m\u001b[0mfind\u001b[0m\u001b[1;33m(\u001b[0m\u001b[1;34m\"meta\"\u001b[0m\u001b[1;33m,\u001b[0m \u001b[0mitemprop\u001b[0m\u001b[1;33m=\u001b[0m\u001b[1;34m\"datePublished\"\u001b[0m\u001b[1;33m)\u001b[0m\u001b[1;33m[\u001b[0m\u001b[1;34m'content'\u001b[0m\u001b[1;33m]\u001b[0m\u001b[1;33m\u001b[0m\u001b[1;33m\u001b[0m\u001b[0m\n\u001b[0m",
      "\u001b[1;31mNameError\u001b[0m: name 'result' is not defined"
     ]
    }
   ],
   "source": [
    "result[\"date_published\"] = soup.find(\"meta\", itemprop=\"datePublished\")['content']"
   ]
  },
  {
   "cell_type": "code",
   "execution_count": 4,
   "id": "b43da13a",
   "metadata": {},
   "outputs": [],
   "source": [
    "driver.get(\"https://www.youtube.com/watch?v=jNQXAC9IVRw\")"
   ]
  },
  {
   "cell_type": "code",
   "execution_count": 5,
   "id": "847dd1fb",
   "metadata": {},
   "outputs": [],
   "source": [
    "for i in range(1000):\n",
    "    driver.execute_script(\"window.scrollBy(0,1000)\")"
   ]
  },
  {
   "cell_type": "code",
   "execution_count": 142,
   "id": "6f36fb01",
   "metadata": {},
   "outputs": [
    {
     "name": "stdout",
     "output_type": "stream",
     "text": [
      "[]\n"
     ]
    }
   ],
   "source": [
    "soup=BeautifulSoup(driver.page_source,'html.parser')\n",
    "driver.quit()\n",
    "comment_div=soup.select(\"#content #content-text\")\n",
    "comment_list=[x.text for x in comment_div]\n",
    "print(comment_list)"
   ]
  },
  {
   "cell_type": "code",
   "execution_count": 120,
   "id": "fc575fb2",
   "metadata": {},
   "outputs": [],
   "source": [
    "url=\"https://www.youtube.com/\"\n",
    "driver.get(url)\n",
    "time.sleep(2)"
   ]
  },
  {
   "cell_type": "code",
   "execution_count": 23,
   "id": "e90484b0",
   "metadata": {},
   "outputs": [
    {
     "name": "stdout",
     "output_type": "stream",
     "text": [
      "https://www.youtube.com/watch?v=csknRyB9Xco\n"
     ]
    }
   ],
   "source": [
    "if __name__ == \"__main__\":\n",
    "    url=\"https://www.youtube.com/watch?v=jNQXAC9IVRw\"\n",
    "    data = url\n",
    "    print(data)"
   ]
  },
  {
   "cell_type": "code",
   "execution_count": 30,
   "id": "8e2329a9",
   "metadata": {},
   "outputs": [
    {
     "ename": "SyntaxError",
     "evalue": "invalid syntax (521274549.py, line 1)",
     "output_type": "error",
     "traceback": [
      "\u001b[1;36m  File \u001b[1;32m\"C:\\Users\\User\\AppData\\Local\\Temp\\ipykernel_5788\\521274549.py\"\u001b[1;36m, line \u001b[1;32m1\u001b[0m\n\u001b[1;33m    def data:\u001b[0m\n\u001b[1;37m            ^\u001b[0m\n\u001b[1;31mSyntaxError\u001b[0m\u001b[1;31m:\u001b[0m invalid syntax\n"
     ]
    }
   ],
   "source": [
    "def data:\n",
    "    r = requests.get(url)\n",
    "    s = BeautifulSoup(r.text, \"html.parser\")\n",
    "    title = s.find(\"span\", class_=\"watch-title\").text.replace(\"\\n\", \"\")\n",
    "    views = s.find(\"div\", class_=\"watch-view-count\").text\n",
    "    likes = s.find(\"span\", class_=\"like-button-renderer\").span.button.text\n",
    "    data = {'title':title, 'views':views, 'likes':likes}\n",
    "    return data"
   ]
  },
  {
   "cell_type": "code",
   "execution_count": 25,
   "id": "c0650f95",
   "metadata": {},
   "outputs": [
    {
     "data": {
      "text/plain": [
       "'https://www.youtube.com/watch?v=csknRyB9Xco'"
      ]
     },
     "execution_count": 25,
     "metadata": {},
     "output_type": "execute_result"
    }
   ],
   "source": [
    "data"
   ]
  },
  {
   "cell_type": "code",
   "execution_count": 21,
   "id": "bb992886",
   "metadata": {},
   "outputs": [
    {
     "ename": "NameError",
     "evalue": "name 'data' is not defined",
     "output_type": "error",
     "traceback": [
      "\u001b[1;31m---------------------------------------------------------------------------\u001b[0m",
      "\u001b[1;31mNameError\u001b[0m                                 Traceback (most recent call last)",
      "\u001b[1;32m~\\AppData\\Local\\Temp\\ipykernel_5788\\927109222.py\u001b[0m in \u001b[0;36m<module>\u001b[1;34m\u001b[0m\n\u001b[1;32m----> 1\u001b[1;33m \u001b[0mprint\u001b[0m\u001b[1;33m(\u001b[0m\u001b[0mdata\u001b[0m\u001b[1;33m)\u001b[0m\u001b[1;33m\u001b[0m\u001b[1;33m\u001b[0m\u001b[0m\n\u001b[0m",
      "\u001b[1;31mNameError\u001b[0m: name 'data' is not defined"
     ]
    }
   ],
   "source": [
    "print(data)"
   ]
  },
  {
   "cell_type": "code",
   "execution_count": null,
   "id": "3d691f2a",
   "metadata": {},
   "outputs": [],
   "source": [
    "search_bar = driver.find_element(By.ID,'search')\n",
    "search_bar.send_keys(\"GOT\")\n",
    "time.sleep(1)"
   ]
  },
  {
   "cell_type": "code",
   "execution_count": 8,
   "id": "69066ea0",
   "metadata": {},
   "outputs": [],
   "source": [
    "Comment=[]\n",
    "Upvote=[]\n",
    "time=[]"
   ]
  },
  {
   "cell_type": "code",
   "execution_count": 11,
   "id": "57f68b9d",
   "metadata": {},
   "outputs": [],
   "source": [
    "CM_tags=driver.find_elements(By.XPATH,\"/html/body/ytd-app/div[1]/ytd-page-manager/ytd-watch-flexy/div[5]/div[1]/div/div[2]/ytd-comments/ytd-item-section-renderer/div[3]/ytd-comment-thread-renderer[1]/ytd-comment-renderer/div[3]/div[2]/div[2]/ytd-expander/div/yt-formatted-string\")\n",
    "for i in CM_tags:\n",
    "    if i.text is None:\n",
    "        Comment.append(\"--\")\n",
    "    else:\n",
    "        Comment.append(i.text)\n",
    "    time.sleep(5)"
   ]
  },
  {
   "cell_type": "code",
   "execution_count": 12,
   "id": "8559b2e1",
   "metadata": {},
   "outputs": [
    {
     "data": {
      "text/plain": [
       "[]"
      ]
     },
     "execution_count": 12,
     "metadata": {},
     "output_type": "execute_result"
    }
   ],
   "source": [
    "Comment"
   ]
  },
  {
   "cell_type": "code",
   "execution_count": 9,
   "id": "baeb4f1f",
   "metadata": {},
   "outputs": [],
   "source": [
    "CM_tags=driver.find_elements(By.XPATH,\"//yt-formatted-string[@id ='content-text']\")\n",
    "for i in CM_tags:\n",
    "    CM1=i.text\n",
    "    Comment.append(CM1)"
   ]
  },
  {
   "cell_type": "code",
   "execution_count": 10,
   "id": "885f4b9d",
   "metadata": {},
   "outputs": [
    {
     "data": {
      "text/plain": [
       "[]"
      ]
     },
     "execution_count": 10,
     "metadata": {},
     "output_type": "execute_result"
    }
   ],
   "source": [
    "Comment"
   ]
  },
  {
   "cell_type": "code",
   "execution_count": 134,
   "id": "839915f7",
   "metadata": {},
   "outputs": [
    {
     "data": {
      "text/plain": [
       "[]"
      ]
     },
     "execution_count": 134,
     "metadata": {},
     "output_type": "execute_result"
    }
   ],
   "source": [
    "Comment"
   ]
  },
  {
   "cell_type": "code",
   "execution_count": 13,
   "id": "0b5e1095",
   "metadata": {},
   "outputs": [],
   "source": [
    "UP_tags=driver.find_elements(By.XPATH,\"//div[@class ='factoid style-scope ytd-factoid-renderer']\")\n",
    "for i in UP_tags:\n",
    "    UP1=i.text\n",
    "    Upvote.append(UP1)"
   ]
  },
  {
   "cell_type": "code",
   "execution_count": 14,
   "id": "5acc3f72",
   "metadata": {},
   "outputs": [
    {
     "data": {
      "text/plain": [
       "['', '', '']"
      ]
     },
     "execution_count": 14,
     "metadata": {},
     "output_type": "execute_result"
    }
   ],
   "source": [
    "Upvote"
   ]
  },
  {
   "cell_type": "code",
   "execution_count": 7,
   "id": "07df7cb1",
   "metadata": {},
   "outputs": [
    {
     "data": {
      "text/plain": [
       "[]"
      ]
     },
     "execution_count": 7,
     "metadata": {},
     "output_type": "execute_result"
    }
   ],
   "source": [
    "Comment"
   ]
  },
  {
   "cell_type": "code",
   "execution_count": 8,
   "id": "8c7b7ee2",
   "metadata": {},
   "outputs": [],
   "source": [
    "TM_tags=driver.find_elements(By.XPATH,\"//a[contains(text(),'ago')]\")\n",
    "for i in TM_tags:\n",
    "    TM1=i.text\n",
    "    time.append(TM1)"
   ]
  },
  {
   "cell_type": "code",
   "execution_count": 9,
   "id": "96783f69",
   "metadata": {},
   "outputs": [
    {
     "data": {
      "text/plain": [
       "[]"
      ]
     },
     "execution_count": 9,
     "metadata": {},
     "output_type": "execute_result"
    }
   ],
   "source": [
    "time"
   ]
  },
  {
   "cell_type": "code",
   "execution_count": 15,
   "id": "56ff7b83",
   "metadata": {},
   "outputs": [],
   "source": [
    "Upv_tags=driver.find_elements(By.XPATH,\"//span[@class='yt-core-attributed-string yt-core-attributed-string--white-space-no-wrap']/span\")\n",
    "for i in Upv_tags:\n",
    "    Upv1=i.text\n",
    "    Upvote.append(Upv1)"
   ]
  },
  {
   "cell_type": "code",
   "execution_count": 16,
   "id": "e358948f",
   "metadata": {},
   "outputs": [
    {
     "data": {
      "text/plain": [
       "['', '', '']"
      ]
     },
     "execution_count": 16,
     "metadata": {},
     "output_type": "execute_result"
    }
   ],
   "source": [
    "Upvote"
   ]
  },
  {
   "cell_type": "markdown",
   "id": "86e027f6",
   "metadata": {},
   "source": [
    "# Q10"
   ]
  },
  {
   "cell_type": "code",
   "execution_count": 114,
   "id": "b2de5b70",
   "metadata": {},
   "outputs": [],
   "source": [
    "driver.get(\"https://www.hostelworld.com/s?q=London,%20England&country=England&city=London&type=city&id=3&from=2022-12-25&to=2022-12-28&guests=2&page=1\")"
   ]
  },
  {
   "cell_type": "code",
   "execution_count": 74,
   "id": "eb2bbd2a",
   "metadata": {},
   "outputs": [],
   "source": [
    "driver.get(\"https://www.hostelworld.com/\")"
   ]
  },
  {
   "cell_type": "code",
   "execution_count": 85,
   "id": "287dd40e",
   "metadata": {},
   "outputs": [],
   "source": [
    "location=driver.find_element(By.ID,\"location-text-input-field\")\n",
    "location.send_keys('London')"
   ]
  },
  {
   "cell_type": "code",
   "execution_count": null,
   "id": "c7986136",
   "metadata": {},
   "outputs": [],
   "source": [
    "search=driver.find_element(By.CLASS_NAME,\"search-button\")\n",
    "search.click()"
   ]
  },
  {
   "cell_type": "code",
   "execution_count": 115,
   "id": "11d0b8c0",
   "metadata": {},
   "outputs": [],
   "source": [
    "H_name=[]\n",
    "Dis=[]\n",
    "Rat=[]\n",
    "T_rev=[]\n",
    "O_rev=[]\n",
    "P_Pr=[]\n",
    "D_Pr=[]\n",
    "Fac=[]\n",
    "Pr_Des=[]"
   ]
  },
  {
   "cell_type": "code",
   "execution_count": 116,
   "id": "2c5f2285",
   "metadata": {},
   "outputs": [],
   "source": [
    "HN_tags=driver.find_elements(By.XPATH,\"//div[@class='title-row']/h2/a\")\n",
    "for i in HN_tags[0:30]:\n",
    "    HN1=i.text\n",
    "    H_name.append(HN1)\n",
    "    \n",
    "DS_tags=driver.find_elements(By.XPATH,\"//div[@class='subtitle body-3']/a/span[1]\")\n",
    "for i in DS_tags[0:30]:\n",
    "    DS1=i.text\n",
    "    Dis.append(DS1)\n",
    "    \n",
    "RT_tags=driver.find_elements(By.XPATH,\"//div[@class='score orange big']\")\n",
    "for i in RT_tags[0:30]:\n",
    "    RT1=i.text\n",
    "    Rat.append(RT1)\n",
    "    \n",
    "TR_tags=driver.find_elements(By.XPATH,\"//div[@class='reviews']\")\n",
    "for i in TR_tags[0:30]:\n",
    "    TR1=i.text\n",
    "    T_rev.append(TR1)\n",
    "    \n",
    "PPR_tags=driver.find_elements(By.XPATH,\"//div[@class='price title-5']\")\n",
    "for i in PPR_tags[0:30]:\n",
    "    PPR1=i.text\n",
    "    P_Pr.append(PPR1)\n",
    "P_Pr1=P_Pr[::2]\n",
    "\n",
    "DP_tags=driver.find_elements(By.XPATH,\"//div[@class='price title-5']\")\n",
    "for i in DP_tags[0:30]:\n",
    "    DP1=i.text\n",
    "    D_Pr.append(DP1)\n",
    "D_Pr1=D_Pr[1::2]\n",
    "\n",
    "FC_tags=driver.find_elements(By.XPATH,\"//div[@class='facilities-label facilities']\")\n",
    "for i in FC_tags[0:30]:\n",
    "    FC1=i.text\n",
    "    Fac.append(FC1)"
   ]
  },
  {
   "cell_type": "code",
   "execution_count": 117,
   "id": "757aa1f3",
   "metadata": {},
   "outputs": [
    {
     "name": "stdout",
     "output_type": "stream",
     "text": [
      "30 30 28 30 15 15 30\n"
     ]
    }
   ],
   "source": [
    "print(len(H_name),len(Dis),len(Rat),len(T_rev),len(P_Pr1),len(D_Pr1),len(Fac))"
   ]
  },
  {
   "cell_type": "code",
   "execution_count": 118,
   "id": "9f4adae8",
   "metadata": {},
   "outputs": [
    {
     "data": {
      "text/html": [
       "<div>\n",
       "<style scoped>\n",
       "    .dataframe tbody tr th:only-of-type {\n",
       "        vertical-align: middle;\n",
       "    }\n",
       "\n",
       "    .dataframe tbody tr th {\n",
       "        vertical-align: top;\n",
       "    }\n",
       "\n",
       "    .dataframe thead th {\n",
       "        text-align: right;\n",
       "    }\n",
       "</style>\n",
       "<table border=\"1\" class=\"dataframe\">\n",
       "  <thead>\n",
       "    <tr style=\"text-align: right;\">\n",
       "      <th></th>\n",
       "      <th>Hostel</th>\n",
       "      <th>Distance</th>\n",
       "      <th>Ratings</th>\n",
       "      <th>Reviews</th>\n",
       "      <th>Priv_Price</th>\n",
       "      <th>Dorm_Price</th>\n",
       "      <th>Facilities</th>\n",
       "    </tr>\n",
       "  </thead>\n",
       "  <tbody>\n",
       "    <tr>\n",
       "      <th>0</th>\n",
       "      <td>Wombat's City Hostel London</td>\n",
       "      <td>Hostel - 3.6km from city centre</td>\n",
       "      <td>8.9</td>\n",
       "      <td>14420 Total Reviews</td>\n",
       "      <td>Rs15953.5 Rs12763</td>\n",
       "      <td>Rs3663.42 Rs2931</td>\n",
       "      <td>Free WiFi\\nFollows Covid-19 sanitation guidance</td>\n",
       "    </tr>\n",
       "    <tr>\n",
       "      <th>1</th>\n",
       "      <td>St Christopher's Village</td>\n",
       "      <td>Hostel - 1.8km from city centre</td>\n",
       "      <td>8.0</td>\n",
       "      <td>11770 Total Reviews</td>\n",
       "      <td>Rs1762.62 Rs1586</td>\n",
       "      <td>Rs12791</td>\n",
       "      <td>Free WiFi\\nFollows Covid-19 sanitation guidance</td>\n",
       "    </tr>\n",
       "    <tr>\n",
       "      <th>2</th>\n",
       "      <td>Hostel One Notting Hill</td>\n",
       "      <td>Hostel - 5.5km from city centre</td>\n",
       "      <td>9.3</td>\n",
       "      <td>1643 Total Reviews</td>\n",
       "      <td>Rs3090</td>\n",
       "      <td>Rs9974</td>\n",
       "      <td>Free WiFi</td>\n",
       "    </tr>\n",
       "    <tr>\n",
       "      <th>3</th>\n",
       "      <td>Urbany Hostel London</td>\n",
       "      <td>Hostel - 5.4km from city centre</td>\n",
       "      <td>9.2</td>\n",
       "      <td>577 Total Reviews</td>\n",
       "      <td>Rs2641</td>\n",
       "      <td>Rs8058</td>\n",
       "      <td>Free WiFi\\nFollows Covid-19 sanitation guidance</td>\n",
       "    </tr>\n",
       "    <tr>\n",
       "      <th>4</th>\n",
       "      <td>Generator London</td>\n",
       "      <td>Hostel - 3km from city centre</td>\n",
       "      <td>7.7</td>\n",
       "      <td>7297 Total Reviews</td>\n",
       "      <td>Rs2094</td>\n",
       "      <td>Rs18873</td>\n",
       "      <td>Free WiFi\\nFollows Covid-19 sanitation guidance</td>\n",
       "    </tr>\n",
       "    <tr>\n",
       "      <th>5</th>\n",
       "      <td>Safestay London Elephant &amp; Castle</td>\n",
       "      <td>Hostel - 1.7km from city centre</td>\n",
       "      <td>7.3</td>\n",
       "      <td>4736 Total Reviews</td>\n",
       "      <td>Rs6620</td>\n",
       "      <td>Rs10844</td>\n",
       "      <td>Free WiFi\\nFollows Covid-19 sanitation guidance</td>\n",
       "    </tr>\n",
       "    <tr>\n",
       "      <th>6</th>\n",
       "      <td>Smart Russell Square Hostel</td>\n",
       "      <td>Hostel - 2.6km from city centre</td>\n",
       "      <td>7.1</td>\n",
       "      <td>9848 Total Reviews</td>\n",
       "      <td>Rs1923</td>\n",
       "      <td>Rs1910.19 Rs1719</td>\n",
       "      <td>Free WiFi\\nFollows Covid-19 sanitation guidance</td>\n",
       "    </tr>\n",
       "    <tr>\n",
       "      <th>7</th>\n",
       "      <td>St Christopher's Camden</td>\n",
       "      <td>Hostel - 4.3km from city centre</td>\n",
       "      <td>8.2</td>\n",
       "      <td>3931 Total Reviews</td>\n",
       "      <td>Rs1060</td>\n",
       "      <td>Rs2225</td>\n",
       "      <td>Free WiFi\\nFollows Covid-19 sanitation guidance</td>\n",
       "    </tr>\n",
       "    <tr>\n",
       "      <th>8</th>\n",
       "      <td>No.8 Seven Sisters</td>\n",
       "      <td>Hostel - 9km from city centre</td>\n",
       "      <td>6.8</td>\n",
       "      <td>3930 Total Reviews</td>\n",
       "      <td>Rs1110</td>\n",
       "      <td>Rs1743.02 Rs1569</td>\n",
       "      <td>Free WiFi\\nFollows Covid-19 sanitation guidance</td>\n",
       "    </tr>\n",
       "    <tr>\n",
       "      <th>9</th>\n",
       "      <td>No.8 Willesden Hostel London</td>\n",
       "      <td>Hostel - 10km from city centre</td>\n",
       "      <td>7.5</td>\n",
       "      <td>4914 Total Reviews</td>\n",
       "      <td>Rs13031</td>\n",
       "      <td>Rs4044</td>\n",
       "      <td>Free WiFi\\nFollows Covid-19 sanitation guidance</td>\n",
       "    </tr>\n",
       "    <tr>\n",
       "      <th>10</th>\n",
       "      <td>Smart Hyde Park Inn Hostel</td>\n",
       "      <td>Hostel - 5km from city centre</td>\n",
       "      <td>7.0</td>\n",
       "      <td>6452 Total Reviews</td>\n",
       "      <td>Rs2421.49 Rs1937</td>\n",
       "      <td>Rs2197</td>\n",
       "      <td>Free WiFi</td>\n",
       "    </tr>\n",
       "    <tr>\n",
       "      <th>11</th>\n",
       "      <td>Safestay London Kensington Holland Park</td>\n",
       "      <td>Hostel - 5.9km from city centre</td>\n",
       "      <td>7.5</td>\n",
       "      <td>1401 Total Reviews</td>\n",
       "      <td>Rs2492</td>\n",
       "      <td>Rs1977.48 Rs1879</td>\n",
       "      <td>Free WiFi</td>\n",
       "    </tr>\n",
       "    <tr>\n",
       "      <th>12</th>\n",
       "      <td>NX London Hostel</td>\n",
       "      <td>Hostel - 6.1km from city centre</td>\n",
       "      <td>8.0</td>\n",
       "      <td>1422 Total Reviews</td>\n",
       "      <td>Rs1615.07 Rs1454</td>\n",
       "      <td>Rs2187</td>\n",
       "      <td>Free WiFi\\nFree Breakfast</td>\n",
       "    </tr>\n",
       "    <tr>\n",
       "      <th>13</th>\n",
       "      <td>Astor Museum Inn</td>\n",
       "      <td>Hostel - 2.2km from city centre</td>\n",
       "      <td>8.4</td>\n",
       "      <td>9135 Total Reviews</td>\n",
       "      <td>Rs9382</td>\n",
       "      <td>Rs1743</td>\n",
       "      <td>Free WiFi\\nFollows Covid-19 sanitation guidance</td>\n",
       "    </tr>\n",
       "    <tr>\n",
       "      <th>14</th>\n",
       "      <td>Smart Camden Inn Hostel</td>\n",
       "      <td>Hostel - 4.4km from city centre</td>\n",
       "      <td>7.0</td>\n",
       "      <td>3001 Total Reviews</td>\n",
       "      <td>Rs7956</td>\n",
       "      <td>Rs1955</td>\n",
       "      <td>Free WiFi\\nFollows Covid-19 sanitation guidance</td>\n",
       "    </tr>\n",
       "  </tbody>\n",
       "</table>\n",
       "</div>"
      ],
      "text/plain": [
       "                                     Hostel                         Distance  \\\n",
       "0               Wombat's City Hostel London  Hostel - 3.6km from city centre   \n",
       "1                  St Christopher's Village  Hostel - 1.8km from city centre   \n",
       "2                   Hostel One Notting Hill  Hostel - 5.5km from city centre   \n",
       "3                      Urbany Hostel London  Hostel - 5.4km from city centre   \n",
       "4                          Generator London    Hostel - 3km from city centre   \n",
       "5         Safestay London Elephant & Castle  Hostel - 1.7km from city centre   \n",
       "6               Smart Russell Square Hostel  Hostel - 2.6km from city centre   \n",
       "7                   St Christopher's Camden  Hostel - 4.3km from city centre   \n",
       "8                        No.8 Seven Sisters    Hostel - 9km from city centre   \n",
       "9              No.8 Willesden Hostel London   Hostel - 10km from city centre   \n",
       "10               Smart Hyde Park Inn Hostel    Hostel - 5km from city centre   \n",
       "11  Safestay London Kensington Holland Park  Hostel - 5.9km from city centre   \n",
       "12                         NX London Hostel  Hostel - 6.1km from city centre   \n",
       "13                         Astor Museum Inn  Hostel - 2.2km from city centre   \n",
       "14                  Smart Camden Inn Hostel  Hostel - 4.4km from city centre   \n",
       "\n",
       "   Ratings              Reviews         Priv_Price        Dorm_Price  \\\n",
       "0      8.9  14420 Total Reviews  Rs15953.5 Rs12763  Rs3663.42 Rs2931   \n",
       "1      8.0  11770 Total Reviews   Rs1762.62 Rs1586           Rs12791   \n",
       "2      9.3   1643 Total Reviews             Rs3090            Rs9974   \n",
       "3      9.2    577 Total Reviews             Rs2641            Rs8058   \n",
       "4      7.7   7297 Total Reviews             Rs2094           Rs18873   \n",
       "5      7.3   4736 Total Reviews             Rs6620           Rs10844   \n",
       "6      7.1   9848 Total Reviews             Rs1923  Rs1910.19 Rs1719   \n",
       "7      8.2   3931 Total Reviews             Rs1060            Rs2225   \n",
       "8      6.8   3930 Total Reviews             Rs1110  Rs1743.02 Rs1569   \n",
       "9      7.5   4914 Total Reviews            Rs13031            Rs4044   \n",
       "10     7.0   6452 Total Reviews   Rs2421.49 Rs1937            Rs2197   \n",
       "11     7.5   1401 Total Reviews             Rs2492  Rs1977.48 Rs1879   \n",
       "12     8.0   1422 Total Reviews   Rs1615.07 Rs1454            Rs2187   \n",
       "13     8.4   9135 Total Reviews             Rs9382            Rs1743   \n",
       "14     7.0   3001 Total Reviews             Rs7956            Rs1955   \n",
       "\n",
       "                                         Facilities  \n",
       "0   Free WiFi\\nFollows Covid-19 sanitation guidance  \n",
       "1   Free WiFi\\nFollows Covid-19 sanitation guidance  \n",
       "2                                         Free WiFi  \n",
       "3   Free WiFi\\nFollows Covid-19 sanitation guidance  \n",
       "4   Free WiFi\\nFollows Covid-19 sanitation guidance  \n",
       "5   Free WiFi\\nFollows Covid-19 sanitation guidance  \n",
       "6   Free WiFi\\nFollows Covid-19 sanitation guidance  \n",
       "7   Free WiFi\\nFollows Covid-19 sanitation guidance  \n",
       "8   Free WiFi\\nFollows Covid-19 sanitation guidance  \n",
       "9   Free WiFi\\nFollows Covid-19 sanitation guidance  \n",
       "10                                        Free WiFi  \n",
       "11                                        Free WiFi  \n",
       "12                        Free WiFi\\nFree Breakfast  \n",
       "13  Free WiFi\\nFollows Covid-19 sanitation guidance  \n",
       "14  Free WiFi\\nFollows Covid-19 sanitation guidance  "
      ]
     },
     "execution_count": 118,
     "metadata": {},
     "output_type": "execute_result"
    }
   ],
   "source": [
    "df5=pd.DataFrame({'Hostel':H_name[:15],'Distance':Dis[:15],'Ratings':Rat[:15],'Reviews':T_rev[:15],'Priv_Price':P_Pr1[:15],'Dorm_Price':D_Pr1[:15],'Facilities':Fac[:15]})\n",
    "df5"
   ]
  },
  {
   "cell_type": "code",
   "execution_count": null,
   "id": "7665d703",
   "metadata": {},
   "outputs": [],
   "source": [
    "i could not scrape property description "
   ]
  }
 ],
 "metadata": {
  "kernelspec": {
   "display_name": "Python 3 (ipykernel)",
   "language": "python",
   "name": "python3"
  },
  "language_info": {
   "codemirror_mode": {
    "name": "ipython",
    "version": 3
   },
   "file_extension": ".py",
   "mimetype": "text/x-python",
   "name": "python",
   "nbconvert_exporter": "python",
   "pygments_lexer": "ipython3",
   "version": "3.9.13"
  }
 },
 "nbformat": 4,
 "nbformat_minor": 5
}
